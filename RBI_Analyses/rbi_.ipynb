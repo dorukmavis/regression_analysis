{
 "cells": [
  {
   "cell_type": "code",
   "execution_count": 85,
   "metadata": {},
   "outputs": [],
   "source": [
    "import pandas as pd\n",
    "import seaborn as sns\n",
    "import statsmodels.api as sm\n",
    "import statsmodels.stats.api as sms\n",
    "from statsmodels.tsa.api import ARDL\n",
    "from scipy import stats\n",
    "import matplotlib.pyplot as plt\n",
    "import numpy as np\n"
   ]
  },
  {
   "cell_type": "code",
   "execution_count": 86,
   "metadata": {},
   "outputs": [
    {
     "data": {
      "text/html": [
       "<div>\n",
       "<style scoped>\n",
       "    .dataframe tbody tr th:only-of-type {\n",
       "        vertical-align: middle;\n",
       "    }\n",
       "\n",
       "    .dataframe tbody tr th {\n",
       "        vertical-align: top;\n",
       "    }\n",
       "\n",
       "    .dataframe thead th {\n",
       "        text-align: right;\n",
       "    }\n",
       "</style>\n",
       "<table border=\"1\" class=\"dataframe\">\n",
       "  <thead>\n",
       "    <tr style=\"text-align: right;\">\n",
       "      <th></th>\n",
       "      <th>FED_Policy_Rate</th>\n",
       "      <th>RBI_Policy_Rate</th>\n",
       "    </tr>\n",
       "  </thead>\n",
       "  <tbody>\n",
       "    <tr>\n",
       "      <th>2010-06-30</th>\n",
       "      <td>0.25</td>\n",
       "      <td>5.25</td>\n",
       "    </tr>\n",
       "    <tr>\n",
       "      <th>2010-07-31</th>\n",
       "      <td>0.25</td>\n",
       "      <td>5.25</td>\n",
       "    </tr>\n",
       "    <tr>\n",
       "      <th>2010-08-31</th>\n",
       "      <td>0.25</td>\n",
       "      <td>5.53</td>\n",
       "    </tr>\n",
       "    <tr>\n",
       "      <th>2010-09-30</th>\n",
       "      <td>0.25</td>\n",
       "      <td>5.75</td>\n",
       "    </tr>\n",
       "    <tr>\n",
       "      <th>2010-10-31</th>\n",
       "      <td>0.25</td>\n",
       "      <td>5.88</td>\n",
       "    </tr>\n",
       "    <tr>\n",
       "      <th>...</th>\n",
       "      <td>...</td>\n",
       "      <td>...</td>\n",
       "    </tr>\n",
       "    <tr>\n",
       "      <th>2021-11-30</th>\n",
       "      <td>0.25</td>\n",
       "      <td>4.00</td>\n",
       "    </tr>\n",
       "    <tr>\n",
       "      <th>2021-12-31</th>\n",
       "      <td>0.25</td>\n",
       "      <td>4.00</td>\n",
       "    </tr>\n",
       "    <tr>\n",
       "      <th>2022-01-31</th>\n",
       "      <td>0.25</td>\n",
       "      <td>4.00</td>\n",
       "    </tr>\n",
       "    <tr>\n",
       "      <th>2022-02-28</th>\n",
       "      <td>0.25</td>\n",
       "      <td>4.00</td>\n",
       "    </tr>\n",
       "    <tr>\n",
       "      <th>2022-03-31</th>\n",
       "      <td>0.50</td>\n",
       "      <td>4.00</td>\n",
       "    </tr>\n",
       "  </tbody>\n",
       "</table>\n",
       "<p>142 rows × 2 columns</p>\n",
       "</div>"
      ],
      "text/plain": [
       "            FED_Policy_Rate  RBI_Policy_Rate\n",
       "2010-06-30             0.25             5.25\n",
       "2010-07-31             0.25             5.25\n",
       "2010-08-31             0.25             5.53\n",
       "2010-09-30             0.25             5.75\n",
       "2010-10-31             0.25             5.88\n",
       "...                     ...              ...\n",
       "2021-11-30             0.25             4.00\n",
       "2021-12-31             0.25             4.00\n",
       "2022-01-31             0.25             4.00\n",
       "2022-02-28             0.25             4.00\n",
       "2022-03-31             0.50             4.00\n",
       "\n",
       "[142 rows x 2 columns]"
      ]
     },
     "execution_count": 86,
     "metadata": {},
     "output_type": "execute_result"
    }
   ],
   "source": [
    "df = pd.read_excel('../comparing_ir.xlsx',usecols=[1,3])\n",
    "df.index = pd.date_range('2010-06','2022-04',freq='m')\n",
    "\n",
    "df"
   ]
  },
  {
   "cell_type": "code",
   "execution_count": 87,
   "metadata": {},
   "outputs": [
    {
     "name": "stdout",
     "output_type": "stream",
     "text": [
      "n of post corona : (117, 2)\n",
      "n of after corona : (30, 2)\n"
     ]
    }
   ],
   "source": [
    "before_covid = df[(df.index <'2020-03')]\n",
    "after_covid = df.iloc[112:142,:] \n",
    "print(f'n of post corona : {before_covid.shape}\\nn of after corona : {after_covid.shape}')"
   ]
  },
  {
   "cell_type": "code",
   "execution_count": 88,
   "metadata": {},
   "outputs": [
    {
     "data": {
      "text/html": [
       "<table class=\"simpletable\">\n",
       "<caption>OLS Regression Results</caption>\n",
       "<tr>\n",
       "  <th>Dep. Variable:</th>     <td>RBI_Policy_Rate</td> <th>  R-squared:         </th> <td>   0.392</td>\n",
       "</tr>\n",
       "<tr>\n",
       "  <th>Model:</th>                   <td>OLS</td>       <th>  Adj. R-squared:    </th> <td>   0.387</td>\n",
       "</tr>\n",
       "<tr>\n",
       "  <th>Method:</th>             <td>Least Squares</td>  <th>  F-statistic:       </th> <td>   74.24</td>\n",
       "</tr>\n",
       "<tr>\n",
       "  <th>Date:</th>             <td>Tue, 17 May 2022</td> <th>  Prob (F-statistic):</th> <td>4.27e-14</td>\n",
       "</tr>\n",
       "<tr>\n",
       "  <th>Time:</th>                 <td>00:11:34</td>     <th>  Log-Likelihood:    </th> <td> -128.43</td>\n",
       "</tr>\n",
       "<tr>\n",
       "  <th>No. Observations:</th>      <td>   117</td>      <th>  AIC:               </th> <td>   260.9</td>\n",
       "</tr>\n",
       "<tr>\n",
       "  <th>Df Residuals:</th>          <td>   115</td>      <th>  BIC:               </th> <td>   266.4</td>\n",
       "</tr>\n",
       "<tr>\n",
       "  <th>Df Model:</th>              <td>     1</td>      <th>                     </th>     <td> </td>   \n",
       "</tr>\n",
       "<tr>\n",
       "  <th>Covariance Type:</th>      <td>nonrobust</td>    <th>                     </th>     <td> </td>   \n",
       "</tr>\n",
       "</table>\n",
       "<table class=\"simpletable\">\n",
       "<tr>\n",
       "         <td></td>            <th>coef</th>     <th>std err</th>      <th>t</th>      <th>P>|t|</th>  <th>[0.025</th>    <th>0.975]</th>  \n",
       "</tr>\n",
       "<tr>\n",
       "  <th>const</th>           <td>    7.4633</td> <td>    0.097</td> <td>   77.320</td> <td> 0.000</td> <td>    7.272</td> <td>    7.655</td>\n",
       "</tr>\n",
       "<tr>\n",
       "  <th>FED_Policy_Rate</th> <td>   -0.7672</td> <td>    0.089</td> <td>   -8.616</td> <td> 0.000</td> <td>   -0.944</td> <td>   -0.591</td>\n",
       "</tr>\n",
       "</table>\n",
       "<table class=\"simpletable\">\n",
       "<tr>\n",
       "  <th>Omnibus:</th>       <td> 4.662</td> <th>  Durbin-Watson:     </th> <td>   0.052</td>\n",
       "</tr>\n",
       "<tr>\n",
       "  <th>Prob(Omnibus):</th> <td> 0.097</td> <th>  Jarque-Bera (JB):  </th> <td>   4.695</td>\n",
       "</tr>\n",
       "<tr>\n",
       "  <th>Skew:</th>          <td>-0.460</td> <th>  Prob(JB):          </th> <td>  0.0956</td>\n",
       "</tr>\n",
       "<tr>\n",
       "  <th>Kurtosis:</th>      <td> 2.660</td> <th>  Cond. No.          </th> <td>    2.46</td>\n",
       "</tr>\n",
       "</table><br/><br/>Notes:<br/>[1] Standard Errors assume that the covariance matrix of the errors is correctly specified."
      ],
      "text/plain": [
       "<class 'statsmodels.iolib.summary.Summary'>\n",
       "\"\"\"\n",
       "                            OLS Regression Results                            \n",
       "==============================================================================\n",
       "Dep. Variable:        RBI_Policy_Rate   R-squared:                       0.392\n",
       "Model:                            OLS   Adj. R-squared:                  0.387\n",
       "Method:                 Least Squares   F-statistic:                     74.24\n",
       "Date:                Tue, 17 May 2022   Prob (F-statistic):           4.27e-14\n",
       "Time:                        00:11:34   Log-Likelihood:                -128.43\n",
       "No. Observations:                 117   AIC:                             260.9\n",
       "Df Residuals:                     115   BIC:                             266.4\n",
       "Df Model:                           1                                         \n",
       "Covariance Type:            nonrobust                                         \n",
       "===================================================================================\n",
       "                      coef    std err          t      P>|t|      [0.025      0.975]\n",
       "-----------------------------------------------------------------------------------\n",
       "const               7.4633      0.097     77.320      0.000       7.272       7.655\n",
       "FED_Policy_Rate    -0.7672      0.089     -8.616      0.000      -0.944      -0.591\n",
       "==============================================================================\n",
       "Omnibus:                        4.662   Durbin-Watson:                   0.052\n",
       "Prob(Omnibus):                  0.097   Jarque-Bera (JB):                4.695\n",
       "Skew:                          -0.460   Prob(JB):                       0.0956\n",
       "Kurtosis:                       2.660   Cond. No.                         2.46\n",
       "==============================================================================\n",
       "\n",
       "Notes:\n",
       "[1] Standard Errors assume that the covariance matrix of the errors is correctly specified.\n",
       "\"\"\""
      ]
     },
     "execution_count": 88,
     "metadata": {},
     "output_type": "execute_result"
    }
   ],
   "source": [
    "model_post_corona,model_corona = sm.OLS(before_covid['RBI_Policy_Rate'],sm.add_constant(before_covid['FED_Policy_Rate'])),sm.OLS(after_covid['RBI_Policy_Rate'],sm.add_constant(after_covid['FED_Policy_Rate']))\n",
    "results_post_corona,results_corona = model_post_corona.fit(),model_corona.fit()\n",
    "\n",
    "results_post_corona.summary()"
   ]
  },
  {
   "cell_type": "code",
   "execution_count": 89,
   "metadata": {},
   "outputs": [
    {
     "data": {
      "text/plain": [
       "<seaborn.axisgrid.FacetGrid at 0x2bcc952d070>"
      ]
     },
     "execution_count": 89,
     "metadata": {},
     "output_type": "execute_result"
    },
    {
     "data": {
      "image/png": "[encoded data removed]",
      "text/plain": [
       "<Figure size 360x360 with 1 Axes>"
      ]
     },
     "metadata": {
      "needs_background": "light"
     },
     "output_type": "display_data"
    }
   ],
   "source": [
    "sns.displot(results_post_corona.resid,kde=True)"
   ]
  },
  {
   "cell_type": "code",
   "execution_count": 90,
   "metadata": {},
   "outputs": [
    {
     "data": {
      "text/html": [
       "<table class=\"simpletable\">\n",
       "<caption>OLS Regression Results</caption>\n",
       "<tr>\n",
       "  <th>Dep. Variable:</th>     <td>RBI_Policy_Rate</td> <th>  R-squared:         </th> <td>   0.938</td>\n",
       "</tr>\n",
       "<tr>\n",
       "  <th>Model:</th>                   <td>OLS</td>       <th>  Adj. R-squared:    </th> <td>   0.936</td>\n",
       "</tr>\n",
       "<tr>\n",
       "  <th>Method:</th>             <td>Least Squares</td>  <th>  F-statistic:       </th> <td>   425.3</td>\n",
       "</tr>\n",
       "<tr>\n",
       "  <th>Date:</th>             <td>Tue, 17 May 2022</td> <th>  Prob (F-statistic):</th> <td>1.81e-18</td>\n",
       "</tr>\n",
       "<tr>\n",
       "  <th>Time:</th>                 <td>00:11:36</td>     <th>  Log-Likelihood:    </th> <td>  24.637</td>\n",
       "</tr>\n",
       "<tr>\n",
       "  <th>No. Observations:</th>      <td>    30</td>      <th>  AIC:               </th> <td>  -45.27</td>\n",
       "</tr>\n",
       "<tr>\n",
       "  <th>Df Residuals:</th>          <td>    28</td>      <th>  BIC:               </th> <td>  -42.47</td>\n",
       "</tr>\n",
       "<tr>\n",
       "  <th>Df Model:</th>              <td>     1</td>      <th>                     </th>     <td> </td>   \n",
       "</tr>\n",
       "<tr>\n",
       "  <th>Covariance Type:</th>      <td>nonrobust</td>    <th>                     </th>     <td> </td>   \n",
       "</tr>\n",
       "</table>\n",
       "<table class=\"simpletable\">\n",
       "<tr>\n",
       "         <td></td>            <th>coef</th>     <th>std err</th>      <th>t</th>      <th>P>|t|</th>  <th>[0.025</th>    <th>0.975]</th>  \n",
       "</tr>\n",
       "<tr>\n",
       "  <th>const</th>           <td>    3.8398</td> <td>    0.027</td> <td>  141.009</td> <td> 0.000</td> <td>    3.784</td> <td>    3.896</td>\n",
       "</tr>\n",
       "<tr>\n",
       "  <th>FED_Policy_Rate</th> <td>    0.7446</td> <td>    0.036</td> <td>   20.623</td> <td> 0.000</td> <td>    0.671</td> <td>    0.819</td>\n",
       "</tr>\n",
       "</table>\n",
       "<table class=\"simpletable\">\n",
       "<tr>\n",
       "  <th>Omnibus:</th>       <td>37.090</td> <th>  Durbin-Watson:     </th> <td>   0.969</td>\n",
       "</tr>\n",
       "<tr>\n",
       "  <th>Prob(Omnibus):</th> <td> 0.000</td> <th>  Jarque-Bera (JB):  </th> <td> 108.274</td>\n",
       "</tr>\n",
       "<tr>\n",
       "  <th>Skew:</th>          <td> 2.618</td> <th>  Prob(JB):          </th> <td>3.08e-24</td>\n",
       "</tr>\n",
       "<tr>\n",
       "  <th>Kurtosis:</th>      <td>10.694</td> <th>  Cond. No.          </th> <td>    2.40</td>\n",
       "</tr>\n",
       "</table><br/><br/>Notes:<br/>[1] Standard Errors assume that the covariance matrix of the errors is correctly specified."
      ],
      "text/plain": [
       "<class 'statsmodels.iolib.summary.Summary'>\n",
       "\"\"\"\n",
       "                            OLS Regression Results                            \n",
       "==============================================================================\n",
       "Dep. Variable:        RBI_Policy_Rate   R-squared:                       0.938\n",
       "Model:                            OLS   Adj. R-squared:                  0.936\n",
       "Method:                 Least Squares   F-statistic:                     425.3\n",
       "Date:                Tue, 17 May 2022   Prob (F-statistic):           1.81e-18\n",
       "Time:                        00:11:36   Log-Likelihood:                 24.637\n",
       "No. Observations:                  30   AIC:                            -45.27\n",
       "Df Residuals:                      28   BIC:                            -42.47\n",
       "Df Model:                           1                                         \n",
       "Covariance Type:            nonrobust                                         \n",
       "===================================================================================\n",
       "                      coef    std err          t      P>|t|      [0.025      0.975]\n",
       "-----------------------------------------------------------------------------------\n",
       "const               3.8398      0.027    141.009      0.000       3.784       3.896\n",
       "FED_Policy_Rate     0.7446      0.036     20.623      0.000       0.671       0.819\n",
       "==============================================================================\n",
       "Omnibus:                       37.090   Durbin-Watson:                   0.969\n",
       "Prob(Omnibus):                  0.000   Jarque-Bera (JB):              108.274\n",
       "Skew:                           2.618   Prob(JB):                     3.08e-24\n",
       "Kurtosis:                      10.694   Cond. No.                         2.40\n",
       "==============================================================================\n",
       "\n",
       "Notes:\n",
       "[1] Standard Errors assume that the covariance matrix of the errors is correctly specified.\n",
       "\"\"\""
      ]
     },
     "execution_count": 90,
     "metadata": {},
     "output_type": "execute_result"
    }
   ],
   "source": [
    "results_corona.summary()"
   ]
  },
  {
   "cell_type": "code",
   "execution_count": 91,
   "metadata": {},
   "outputs": [
    {
     "name": "stdout",
     "output_type": "stream",
     "text": [
      "Heteroscedasticity P Values\n",
      "\n",
      "\n",
      " Post Corona : 0.10386798412523357\n",
      "After Corona : 0.4790893151943484\n"
     ]
    }
   ],
   "source": [
    "print(f'Heteroscedasticity P Values\\n\\n\\n Post Corona : {sms.het_breuschpagan(results_post_corona.resid,results_post_corona.model.exog)[1]}\\nAfter Corona : {sms.het_breuschpagan(results_corona.resid,results_corona.model.exog)[1]}')"
   ]
  },
  {
   "cell_type": "code",
   "execution_count": 92,
   "metadata": {},
   "outputs": [
    {
     "name": "stdout",
     "output_type": "stream",
     "text": [
      "Durbin Watson & Breusch-Godfrey Autocorrelation P Values\n",
      "\n",
      "\n",
      "Post Corona BG : 2.6786114265033556e-24\n",
      "Post Corona Durbin-Watson : 0.05237047700300751\n",
      "\n",
      "After Corona BG : 0.04533933050853786\n",
      "After Corona Durbin-Watson : 0.9689086839577766\n"
     ]
    }
   ],
   "source": [
    "print(f'Durbin Watson & Breusch-Godfrey Autocorrelation P Values\\n\\n\\nPost Corona BG : {sms.acorr_breusch_godfrey(results_post_corona,nlags=1)[1]}\\nPost Corona Durbin-Watson : {sms.durbin_watson(results_post_corona.resid)}\\n\\nAfter Corona BG : {sms.acorr_breusch_godfrey(results_corona,nlags=5)[1]}\\nAfter Corona Durbin-Watson : {sms.durbin_watson(results_corona.resid)}')"
   ]
  },
  {
   "cell_type": "code",
   "execution_count": 93,
   "metadata": {},
   "outputs": [
    {
     "name": "stderr",
     "output_type": "stream",
     "text": [
      "c:\\Users\\acer\\AppData\\Local\\Programs\\Python\\Python39\\lib\\site-packages\\statsmodels\\tsa\\ardl\\model.py:158: SpecificationWarning: exog contains variables that are missing from the order dictionary.  Missing keys: const.\n",
      "  warnings.warn(msg, SpecificationWarning)\n",
      "c:\\Users\\acer\\AppData\\Local\\Programs\\Python\\Python39\\lib\\site-packages\\statsmodels\\tsa\\ardl\\model.py:158: SpecificationWarning: exog contains variables that are missing from the order dictionary.  Missing keys: const.\n",
      "  warnings.warn(msg, SpecificationWarning)\n"
     ]
    }
   ],
   "source": [
    "ardl_corona,ardl_post_corona = ARDL(after_covid['RBI_Policy_Rate'],1,sm.add_constant(after_covid['FED_Policy_Rate']),{'FED_Policy_Rate':1}),ARDL(before_covid['RBI_Policy_Rate'],[1,2],sm.add_constant(before_covid['FED_Policy_Rate']),{'FED_Policy_Rate':2})\n",
    "results_corona,results_post_corona = ardl_corona.fit(),ardl_post_corona.fit()"
   ]
  },
  {
   "cell_type": "code",
   "execution_count": 94,
   "metadata": {},
   "outputs": [
    {
     "data": {
      "text/html": [
       "<table class=\"simpletable\">\n",
       "<caption>ARDL Model Results</caption>\n",
       "<tr>\n",
       "  <th>Dep. Variable:</th>  <td>RBI_Policy_Rate</td> <th>  No. Observations:  </th>   <td>30</td>   \n",
       "</tr>\n",
       "<tr>\n",
       "  <th>Model:</th>            <td>ARDL(1, 1)</td>    <th>  Log Likelihood     </th> <td>41.894</td> \n",
       "</tr>\n",
       "<tr>\n",
       "  <th>Method:</th>         <td>Conditional MLE</td> <th>  S.D. of innovations</th>  <td>0.057</td> \n",
       "</tr>\n",
       "<tr>\n",
       "  <th>Date:</th>          <td>Tue, 17 May 2022</td> <th>  AIC                </th> <td>-73.788</td>\n",
       "</tr>\n",
       "<tr>\n",
       "  <th>Time:</th>              <td>00:11:42</td>     <th>  BIC                </th> <td>-66.952</td>\n",
       "</tr>\n",
       "<tr>\n",
       "  <th>Sample:</th>           <td>11-30-2019</td>    <th>  HQIC               </th> <td>-71.647</td>\n",
       "</tr>\n",
       "<tr>\n",
       "  <th></th>                 <td>- 03-31-2022</td>   <th>                     </th>    <td> </td>   \n",
       "</tr>\n",
       "</table>\n",
       "<table class=\"simpletable\">\n",
       "<tr>\n",
       "           <td></td>             <th>coef</th>     <th>std err</th>      <th>z</th>      <th>P>|z|</th>  <th>[0.025</th>    <th>0.975]</th>  \n",
       "</tr>\n",
       "<tr>\n",
       "  <th>const</th>              <td>    1.8462</td> <td>    0.437</td> <td>    4.225</td> <td> 0.000</td> <td>    0.946</td> <td>    2.746</td>\n",
       "</tr>\n",
       "<tr>\n",
       "  <th>RBI_Policy_Rate.L1</th> <td>    0.5137</td> <td>    0.113</td> <td>    4.527</td> <td> 0.000</td> <td>    0.280</td> <td>    0.747</td>\n",
       "</tr>\n",
       "<tr>\n",
       "  <th>FED_Policy_Rate.L0</th> <td>    0.4840</td> <td>    0.045</td> <td>   10.738</td> <td> 0.000</td> <td>    0.391</td> <td>    0.577</td>\n",
       "</tr>\n",
       "<tr>\n",
       "  <th>FED_Policy_Rate.L1</th> <td>   -0.1107</td> <td>    0.094</td> <td>   -1.174</td> <td> 0.251</td> <td>   -0.305</td> <td>    0.083</td>\n",
       "</tr>\n",
       "</table>"
      ],
      "text/plain": [
       "<class 'statsmodels.iolib.summary.Summary'>\n",
       "\"\"\"\n",
       "                              ARDL Model Results                              \n",
       "==============================================================================\n",
       "Dep. Variable:        RBI_Policy_Rate   No. Observations:                   30\n",
       "Model:                     ARDL(1, 1)   Log Likelihood                  41.894\n",
       "Method:               Conditional MLE   S.D. of innovations              0.057\n",
       "Date:                Tue, 17 May 2022   AIC                            -73.788\n",
       "Time:                        00:11:42   BIC                            -66.952\n",
       "Sample:                    11-30-2019   HQIC                           -71.647\n",
       "                         - 03-31-2022                                         \n",
       "======================================================================================\n",
       "                         coef    std err          z      P>|z|      [0.025      0.975]\n",
       "--------------------------------------------------------------------------------------\n",
       "const                  1.8462      0.437      4.225      0.000       0.946       2.746\n",
       "RBI_Policy_Rate.L1     0.5137      0.113      4.527      0.000       0.280       0.747\n",
       "FED_Policy_Rate.L0     0.4840      0.045     10.738      0.000       0.391       0.577\n",
       "FED_Policy_Rate.L1    -0.1107      0.094     -1.174      0.251      -0.305       0.083\n",
       "======================================================================================\n",
       "\"\"\""
      ]
     },
     "execution_count": 94,
     "metadata": {},
     "output_type": "execute_result"
    }
   ],
   "source": [
    "results_corona.summary()"
   ]
  },
  {
   "cell_type": "code",
   "execution_count": 95,
   "metadata": {},
   "outputs": [
    {
     "data": {
      "text/plain": [
       "Jarque-Bera    7.743411e+01\n",
       "P-value        1.532489e-17\n",
       "Skewness      -2.864357e-01\n",
       "Kurtosis       1.098469e+01\n",
       "dtype: float64"
      ]
     },
     "execution_count": 95,
     "metadata": {},
     "output_type": "execute_result"
    }
   ],
   "source": [
    "results_corona.test_normality()"
   ]
  },
  {
   "cell_type": "code",
   "execution_count": 96,
   "metadata": {},
   "outputs": [
    {
     "data": {
      "text/plain": [
       "0.5548177431937453"
      ]
     },
     "execution_count": 96,
     "metadata": {},
     "output_type": "execute_result"
    }
   ],
   "source": [
    "exog_corona = sm.add_constant(after_covid['FED_Policy_Rate'])[1:]\n",
    "sms.het_breuschpagan(results_corona.resid,exog_corona)[1]"
   ]
  },
  {
   "cell_type": "code",
   "execution_count": 97,
   "metadata": {},
   "outputs": [
    {
     "data": {
      "text/plain": [
       "2.8116031317976273"
      ]
     },
     "execution_count": 97,
     "metadata": {},
     "output_type": "execute_result"
    }
   ],
   "source": [
    "sms.durbin_watson(results_corona.resid)"
   ]
  },
  {
   "cell_type": "code",
   "execution_count": 98,
   "metadata": {},
   "outputs": [
    {
     "data": {
      "text/plain": [
       "0.9794903571311142"
      ]
     },
     "execution_count": 98,
     "metadata": {},
     "output_type": "execute_result"
    }
   ],
   "source": [
    "from sklearn.metrics import r2_score\n",
    "\n",
    "endog_corona = after_covid['RBI_Policy_Rate'][1:]\n",
    "r2_score(endog_corona,results_corona.fittedvalues)"
   ]
  },
  {
   "cell_type": "code",
   "execution_count": 104,
   "metadata": {},
   "outputs": [
    {
     "data": {
      "text/html": [
       "<table class=\"simpletable\">\n",
       "<caption>ARDL Model Results</caption>\n",
       "<tr>\n",
       "  <th>Dep. Variable:</th>  <td>RBI_Policy_Rate</td> <th>  No. Observations:  </th>    <td>117</td>  \n",
       "</tr>\n",
       "<tr>\n",
       "  <th>Model:</th>            <td>ARDL(2, 2)</td>    <th>  Log Likelihood     </th>  <td>64.129</td> \n",
       "</tr>\n",
       "<tr>\n",
       "  <th>Method:</th>         <td>Conditional MLE</td> <th>  S.D. of innovations</th>   <td>0.139</td> \n",
       "</tr>\n",
       "<tr>\n",
       "  <th>Date:</th>          <td>Tue, 17 May 2022</td> <th>  AIC                </th> <td>-114.258</td>\n",
       "</tr>\n",
       "<tr>\n",
       "  <th>Time:</th>              <td>00:18:20</td>     <th>  BIC                </th>  <td>-95.044</td>\n",
       "</tr>\n",
       "<tr>\n",
       "  <th>Sample:</th>           <td>08-31-2010</td>    <th>  HQIC               </th> <td>-106.459</td>\n",
       "</tr>\n",
       "<tr>\n",
       "  <th></th>                 <td>- 02-29-2020</td>   <th>                     </th>     <td> </td>   \n",
       "</tr>\n",
       "</table>\n",
       "<table class=\"simpletable\">\n",
       "<tr>\n",
       "           <td></td>             <th>coef</th>     <th>std err</th>      <th>z</th>      <th>P>|z|</th>  <th>[0.025</th>    <th>0.975]</th>  \n",
       "</tr>\n",
       "<tr>\n",
       "  <th>const</th>              <td>    0.4069</td> <td>    0.144</td> <td>    2.830</td> <td> 0.006</td> <td>    0.122</td> <td>    0.692</td>\n",
       "</tr>\n",
       "<tr>\n",
       "  <th>RBI_Policy_Rate.L1</th> <td>    1.1355</td> <td>    0.094</td> <td>   12.131</td> <td> 0.000</td> <td>    0.950</td> <td>    1.321</td>\n",
       "</tr>\n",
       "<tr>\n",
       "  <th>RBI_Policy_Rate.L2</th> <td>   -0.1872</td> <td>    0.091</td> <td>   -2.049</td> <td> 0.043</td> <td>   -0.368</td> <td>   -0.006</td>\n",
       "</tr>\n",
       "<tr>\n",
       "  <th>FED_Policy_Rate.L0</th> <td>    0.0766</td> <td>    0.169</td> <td>    0.453</td> <td> 0.652</td> <td>   -0.258</td> <td>    0.412</td>\n",
       "</tr>\n",
       "<tr>\n",
       "  <th>FED_Policy_Rate.L1</th> <td>    0.0761</td> <td>    0.243</td> <td>    0.313</td> <td> 0.755</td> <td>   -0.406</td> <td>    0.558</td>\n",
       "</tr>\n",
       "<tr>\n",
       "  <th>FED_Policy_Rate.L2</th> <td>   -0.2238</td> <td>    0.169</td> <td>   -1.325</td> <td> 0.188</td> <td>   -0.558</td> <td>    0.111</td>\n",
       "</tr>\n",
       "</table>"
      ],
      "text/plain": [
       "<class 'statsmodels.iolib.summary.Summary'>\n",
       "\"\"\"\n",
       "                              ARDL Model Results                              \n",
       "==============================================================================\n",
       "Dep. Variable:        RBI_Policy_Rate   No. Observations:                  117\n",
       "Model:                     ARDL(2, 2)   Log Likelihood                  64.129\n",
       "Method:               Conditional MLE   S.D. of innovations              0.139\n",
       "Date:                Tue, 17 May 2022   AIC                           -114.258\n",
       "Time:                        00:18:20   BIC                            -95.044\n",
       "Sample:                    08-31-2010   HQIC                          -106.459\n",
       "                         - 02-29-2020                                         \n",
       "======================================================================================\n",
       "                         coef    std err          z      P>|z|      [0.025      0.975]\n",
       "--------------------------------------------------------------------------------------\n",
       "const                  0.4069      0.144      2.830      0.006       0.122       0.692\n",
       "RBI_Policy_Rate.L1     1.1355      0.094     12.131      0.000       0.950       1.321\n",
       "RBI_Policy_Rate.L2    -0.1872      0.091     -2.049      0.043      -0.368      -0.006\n",
       "FED_Policy_Rate.L0     0.0766      0.169      0.453      0.652      -0.258       0.412\n",
       "FED_Policy_Rate.L1     0.0761      0.243      0.313      0.755      -0.406       0.558\n",
       "FED_Policy_Rate.L2    -0.2238      0.169     -1.325      0.188      -0.558       0.111\n",
       "======================================================================================\n",
       "\"\"\""
      ]
     },
     "execution_count": 104,
     "metadata": {},
     "output_type": "execute_result"
    }
   ],
   "source": [
    "results_post_corona.summary()"
   ]
  },
  {
   "cell_type": "code",
   "execution_count": 105,
   "metadata": {},
   "outputs": [
    {
     "data": {
      "text/html": [
       "<div>\n",
       "<style scoped>\n",
       "    .dataframe tbody tr th:only-of-type {\n",
       "        vertical-align: middle;\n",
       "    }\n",
       "\n",
       "    .dataframe tbody tr th {\n",
       "        vertical-align: top;\n",
       "    }\n",
       "\n",
       "    .dataframe thead th {\n",
       "        text-align: right;\n",
       "    }\n",
       "</style>\n",
       "<table border=\"1\" class=\"dataframe\">\n",
       "  <thead>\n",
       "    <tr style=\"text-align: right;\">\n",
       "      <th></th>\n",
       "      <th>ARCH-LM</th>\n",
       "      <th>P-value</th>\n",
       "      <th>DF</th>\n",
       "    </tr>\n",
       "    <tr>\n",
       "      <th>Lag</th>\n",
       "      <th></th>\n",
       "      <th></th>\n",
       "      <th></th>\n",
       "    </tr>\n",
       "  </thead>\n",
       "  <tbody>\n",
       "    <tr>\n",
       "      <th>1</th>\n",
       "      <td>1.351196</td>\n",
       "      <td>0.245069</td>\n",
       "      <td>1</td>\n",
       "    </tr>\n",
       "  </tbody>\n",
       "</table>\n",
       "</div>"
      ],
      "text/plain": [
       "      ARCH-LM   P-value  DF\n",
       "Lag                        \n",
       "1    1.351196  0.245069   1"
      ]
     },
     "execution_count": 105,
     "metadata": {},
     "output_type": "execute_result"
    }
   ],
   "source": [
    "results_post_corona.test_heteroskedasticity(1)"
   ]
  },
  {
   "cell_type": "code",
   "execution_count": 106,
   "metadata": {},
   "outputs": [
    {
     "data": {
      "text/plain": [
       "Jarque-Bera    3.351668e+01\n",
       "P-value        5.271630e-08\n",
       "Skewness      -4.812600e-01\n",
       "Kurtosis       5.463400e+00\n",
       "dtype: float64"
      ]
     },
     "execution_count": 106,
     "metadata": {},
     "output_type": "execute_result"
    }
   ],
   "source": [
    "results_post_corona.test_normality()"
   ]
  },
  {
   "cell_type": "code",
   "execution_count": 108,
   "metadata": {},
   "outputs": [
    {
     "data": {
      "text/plain": [
       "0.976989322861228"
      ]
     },
     "execution_count": 108,
     "metadata": {},
     "output_type": "execute_result"
    }
   ],
   "source": [
    "endog = before_covid['RBI_Policy_Rate'][2:]\n",
    "exog = sm.add_constant(before_covid['RBI_Policy_Rate'])[2:]\n",
    "\n",
    "r2_score(endog,results_post_corona.fittedvalues)"
   ]
  },
  {
   "cell_type": "code",
   "execution_count": 109,
   "metadata": {},
   "outputs": [
    {
     "data": {
      "text/plain": [
       "<AxesSubplot:>"
      ]
     },
     "execution_count": 109,
     "metadata": {},
     "output_type": "execute_result"
    },
    {
     "data": {
      "image/png": "[encoded data removed]",
      "text/plain": [
       "<Figure size 432x288 with 1 Axes>"
      ]
     },
     "metadata": {
      "needs_background": "light"
     },
     "output_type": "display_data"
    }
   ],
   "source": [
    "before_covid.plot()"
   ]
  },
  {
   "cell_type": "code",
   "execution_count": null,
   "metadata": {},
   "outputs": [],
   "source": []
  }
 ],
 "metadata": {
  "interpreter": {
   "hash": "8f5816e6188795d1cc8afa4306b69c5e3a103f064a75e820fe776234e4cf83e8"
  },
  "kernelspec": {
   "display_name": "Python 3.9.1 64-bit",
   "language": "python",
   "name": "python3"
  },
  "language_info": {
   "codemirror_mode": {
    "name": "ipython",
    "version": 3
   },
   "file_extension": ".py",
   "mimetype": "text/x-python",
   "name": "python",
   "nbconvert_exporter": "python",
   "pygments_lexer": "ipython3",
   "version": "3.9.1"
  },
  "orig_nbformat": 4
 },
 "nbformat": 4,
 "nbformat_minor": 2
}
