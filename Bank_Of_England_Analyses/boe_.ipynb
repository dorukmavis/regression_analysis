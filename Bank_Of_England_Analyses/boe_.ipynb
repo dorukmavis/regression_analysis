{
 "cells": [
  {
   "cell_type": "code",
   "execution_count": 1,
   "metadata": {},
   "outputs": [],
   "source": [
    "import pandas as pd\n",
    "import numpy as np\n",
    "import statsmodels.api as sm\n",
    "import statsmodels.stats.api as sms\n",
    "from scipy import stats\n"
   ]
  },
  {
   "cell_type": "code",
   "execution_count": 2,
   "metadata": {},
   "outputs": [
    {
     "data": {
      "text/html": [
       "<div>\n",
       "<style scoped>\n",
       "    .dataframe tbody tr th:only-of-type {\n",
       "        vertical-align: middle;\n",
       "    }\n",
       "\n",
       "    .dataframe tbody tr th {\n",
       "        vertical-align: top;\n",
       "    }\n",
       "\n",
       "    .dataframe thead th {\n",
       "        text-align: right;\n",
       "    }\n",
       "</style>\n",
       "<table border=\"1\" class=\"dataframe\">\n",
       "  <thead>\n",
       "    <tr style=\"text-align: right;\">\n",
       "      <th></th>\n",
       "      <th>FED_Policy_Rate</th>\n",
       "      <th>BOE_Policy_Rate</th>\n",
       "    </tr>\n",
       "  </thead>\n",
       "  <tbody>\n",
       "    <tr>\n",
       "      <th>2010-06-30</th>\n",
       "      <td>0.25</td>\n",
       "      <td>0.5</td>\n",
       "    </tr>\n",
       "    <tr>\n",
       "      <th>2010-07-31</th>\n",
       "      <td>0.25</td>\n",
       "      <td>0.5</td>\n",
       "    </tr>\n",
       "    <tr>\n",
       "      <th>2010-08-31</th>\n",
       "      <td>0.25</td>\n",
       "      <td>0.5</td>\n",
       "    </tr>\n",
       "    <tr>\n",
       "      <th>2010-09-30</th>\n",
       "      <td>0.25</td>\n",
       "      <td>0.5</td>\n",
       "    </tr>\n",
       "    <tr>\n",
       "      <th>2010-10-31</th>\n",
       "      <td>0.25</td>\n",
       "      <td>0.5</td>\n",
       "    </tr>\n",
       "  </tbody>\n",
       "</table>\n",
       "</div>"
      ],
      "text/plain": [
       "            FED_Policy_Rate  BOE_Policy_Rate\n",
       "2010-06-30             0.25              0.5\n",
       "2010-07-31             0.25              0.5\n",
       "2010-08-31             0.25              0.5\n",
       "2010-09-30             0.25              0.5\n",
       "2010-10-31             0.25              0.5"
      ]
     },
     "execution_count": 2,
     "metadata": {},
     "output_type": "execute_result"
    }
   ],
   "source": [
    "df = pd.read_excel('../comparing_ir.xlsx',usecols=[1,2])\n",
    "df.index = pd.date_range(start='2010-06',end='2022-04',freq='M')\n",
    "df.head()\n"
   ]
  },
  {
   "cell_type": "code",
   "execution_count": 3,
   "metadata": {},
   "outputs": [
    {
     "name": "stdout",
     "output_type": "stream",
     "text": [
      "n of post corona : (117, 2)\n",
      "n of after corona : (30, 2)\n"
     ]
    }
   ],
   "source": [
    "before_covid = df[(df.index <'2020-03')]\n",
    "after_covid = df.iloc[112:142,:] \n",
    "print(f'n of post corona : {before_covid.shape}\\nn of after corona : {after_covid.shape}')"
   ]
  },
  {
   "cell_type": "code",
   "execution_count": 4,
   "metadata": {},
   "outputs": [
    {
     "data": {
      "text/html": [
       "<table class=\"simpletable\">\n",
       "<caption>OLS Regression Results</caption>\n",
       "<tr>\n",
       "  <th>Dep. Variable:</th>     <td>BOE_Policy_Rate</td> <th>  R-squared:         </th> <td>   0.271</td>\n",
       "</tr>\n",
       "<tr>\n",
       "  <th>Model:</th>                   <td>OLS</td>       <th>  Adj. R-squared:    </th> <td>   0.265</td>\n",
       "</tr>\n",
       "<tr>\n",
       "  <th>Method:</th>             <td>Least Squares</td>  <th>  F-statistic:       </th> <td>   42.83</td>\n",
       "</tr>\n",
       "<tr>\n",
       "  <th>Date:</th>             <td>Tue, 17 May 2022</td> <th>  Prob (F-statistic):</th> <td>1.73e-09</td>\n",
       "</tr>\n",
       "<tr>\n",
       "  <th>Time:</th>                 <td>15:09:28</td>     <th>  Log-Likelihood:    </th> <td>  87.233</td>\n",
       "</tr>\n",
       "<tr>\n",
       "  <th>No. Observations:</th>      <td>   117</td>      <th>  AIC:               </th> <td>  -170.5</td>\n",
       "</tr>\n",
       "<tr>\n",
       "  <th>Df Residuals:</th>          <td>   115</td>      <th>  BIC:               </th> <td>  -164.9</td>\n",
       "</tr>\n",
       "<tr>\n",
       "  <th>Df Model:</th>              <td>     1</td>      <th>                     </th>     <td> </td>   \n",
       "</tr>\n",
       "<tr>\n",
       "  <th>Covariance Type:</th>      <td>nonrobust</td>    <th>                     </th>     <td> </td>   \n",
       "</tr>\n",
       "</table>\n",
       "<table class=\"simpletable\">\n",
       "<tr>\n",
       "         <td></td>            <th>coef</th>     <th>std err</th>      <th>t</th>      <th>P>|t|</th>  <th>[0.025</th>    <th>0.975]</th>  \n",
       "</tr>\n",
       "<tr>\n",
       "  <th>const</th>           <td>    0.4372</td> <td>    0.015</td> <td>   28.613</td> <td> 0.000</td> <td>    0.407</td> <td>    0.467</td>\n",
       "</tr>\n",
       "<tr>\n",
       "  <th>FED_Policy_Rate</th> <td>    0.0922</td> <td>    0.014</td> <td>    6.545</td> <td> 0.000</td> <td>    0.064</td> <td>    0.120</td>\n",
       "</tr>\n",
       "</table>\n",
       "<table class=\"simpletable\">\n",
       "<tr>\n",
       "  <th>Omnibus:</th>       <td>36.760</td> <th>  Durbin-Watson:     </th> <td>   0.126</td>\n",
       "</tr>\n",
       "<tr>\n",
       "  <th>Prob(Omnibus):</th> <td> 0.000</td> <th>  Jarque-Bera (JB):  </th> <td>  57.964</td>\n",
       "</tr>\n",
       "<tr>\n",
       "  <th>Skew:</th>          <td>-1.569</td> <th>  Prob(JB):          </th> <td>2.59e-13</td>\n",
       "</tr>\n",
       "<tr>\n",
       "  <th>Kurtosis:</th>      <td> 4.432</td> <th>  Cond. No.          </th> <td>    2.46</td>\n",
       "</tr>\n",
       "</table><br/><br/>Notes:<br/>[1] Standard Errors assume that the covariance matrix of the errors is correctly specified."
      ],
      "text/plain": [
       "<class 'statsmodels.iolib.summary.Summary'>\n",
       "\"\"\"\n",
       "                            OLS Regression Results                            \n",
       "==============================================================================\n",
       "Dep. Variable:        BOE_Policy_Rate   R-squared:                       0.271\n",
       "Model:                            OLS   Adj. R-squared:                  0.265\n",
       "Method:                 Least Squares   F-statistic:                     42.83\n",
       "Date:                Tue, 17 May 2022   Prob (F-statistic):           1.73e-09\n",
       "Time:                        15:09:28   Log-Likelihood:                 87.233\n",
       "No. Observations:                 117   AIC:                            -170.5\n",
       "Df Residuals:                     115   BIC:                            -164.9\n",
       "Df Model:                           1                                         \n",
       "Covariance Type:            nonrobust                                         \n",
       "===================================================================================\n",
       "                      coef    std err          t      P>|t|      [0.025      0.975]\n",
       "-----------------------------------------------------------------------------------\n",
       "const               0.4372      0.015     28.613      0.000       0.407       0.467\n",
       "FED_Policy_Rate     0.0922      0.014      6.545      0.000       0.064       0.120\n",
       "==============================================================================\n",
       "Omnibus:                       36.760   Durbin-Watson:                   0.126\n",
       "Prob(Omnibus):                  0.000   Jarque-Bera (JB):               57.964\n",
       "Skew:                          -1.569   Prob(JB):                     2.59e-13\n",
       "Kurtosis:                       4.432   Cond. No.                         2.46\n",
       "==============================================================================\n",
       "\n",
       "Notes:\n",
       "[1] Standard Errors assume that the covariance matrix of the errors is correctly specified.\n",
       "\"\"\""
      ]
     },
     "execution_count": 4,
     "metadata": {},
     "output_type": "execute_result"
    }
   ],
   "source": [
    "model_post_corona,model_corona = sm.OLS(before_covid['BOE_Policy_Rate'],sm.add_constant(before_covid['FED_Policy_Rate'])),sm.OLS(after_covid['BOE_Policy_Rate'],sm.add_constant(after_covid['FED_Policy_Rate']))\n",
    "\n",
    "results_post_corona,results_corona = model_post_corona.fit(),model_corona.fit()\n",
    "\n",
    "results_post_corona.summary()"
   ]
  },
  {
   "cell_type": "code",
   "execution_count": 5,
   "metadata": {},
   "outputs": [
    {
     "data": {
      "text/html": [
       "<table class=\"simpletable\">\n",
       "<caption>OLS Regression Results</caption>\n",
       "<tr>\n",
       "  <th>Dep. Variable:</th>     <td>BOE_Policy_Rate</td> <th>  R-squared:         </th> <td>   0.776</td>\n",
       "</tr>\n",
       "<tr>\n",
       "  <th>Model:</th>                   <td>OLS</td>       <th>  Adj. R-squared:    </th> <td>   0.768</td>\n",
       "</tr>\n",
       "<tr>\n",
       "  <th>Method:</th>             <td>Least Squares</td>  <th>  F-statistic:       </th> <td>   96.83</td>\n",
       "</tr>\n",
       "<tr>\n",
       "  <th>Date:</th>             <td>Tue, 17 May 2022</td> <th>  Prob (F-statistic):</th> <td>1.37e-10</td>\n",
       "</tr>\n",
       "<tr>\n",
       "  <th>Time:</th>                 <td>15:09:29</td>     <th>  Log-Likelihood:    </th> <td>  20.396</td>\n",
       "</tr>\n",
       "<tr>\n",
       "  <th>No. Observations:</th>      <td>    30</td>      <th>  AIC:               </th> <td>  -36.79</td>\n",
       "</tr>\n",
       "<tr>\n",
       "  <th>Df Residuals:</th>          <td>    28</td>      <th>  BIC:               </th> <td>  -33.99</td>\n",
       "</tr>\n",
       "<tr>\n",
       "  <th>Df Model:</th>              <td>     1</td>      <th>                     </th>     <td> </td>   \n",
       "</tr>\n",
       "<tr>\n",
       "  <th>Covariance Type:</th>      <td>nonrobust</td>    <th>                     </th>     <td> </td>   \n",
       "</tr>\n",
       "</table>\n",
       "<table class=\"simpletable\">\n",
       "<tr>\n",
       "         <td></td>            <th>coef</th>     <th>std err</th>      <th>t</th>      <th>P>|t|</th>  <th>[0.025</th>    <th>0.975]</th>  \n",
       "</tr>\n",
       "<tr>\n",
       "  <th>const</th>           <td>    0.0503</td> <td>    0.031</td> <td>    1.603</td> <td> 0.120</td> <td>   -0.014</td> <td>    0.115</td>\n",
       "</tr>\n",
       "<tr>\n",
       "  <th>FED_Policy_Rate</th> <td>    0.4093</td> <td>    0.042</td> <td>    9.840</td> <td> 0.000</td> <td>    0.324</td> <td>    0.494</td>\n",
       "</tr>\n",
       "</table>\n",
       "<table class=\"simpletable\">\n",
       "<tr>\n",
       "  <th>Omnibus:</th>       <td>40.715</td> <th>  Durbin-Watson:     </th> <td>   0.316</td>\n",
       "</tr>\n",
       "<tr>\n",
       "  <th>Prob(Omnibus):</th> <td> 0.000</td> <th>  Jarque-Bera (JB):  </th> <td> 124.992</td>\n",
       "</tr>\n",
       "<tr>\n",
       "  <th>Skew:</th>          <td> 2.950</td> <th>  Prob(JB):          </th> <td>7.22e-28</td>\n",
       "</tr>\n",
       "<tr>\n",
       "  <th>Kurtosis:</th>      <td>11.073</td> <th>  Cond. No.          </th> <td>    2.40</td>\n",
       "</tr>\n",
       "</table><br/><br/>Notes:<br/>[1] Standard Errors assume that the covariance matrix of the errors is correctly specified."
      ],
      "text/plain": [
       "<class 'statsmodels.iolib.summary.Summary'>\n",
       "\"\"\"\n",
       "                            OLS Regression Results                            \n",
       "==============================================================================\n",
       "Dep. Variable:        BOE_Policy_Rate   R-squared:                       0.776\n",
       "Model:                            OLS   Adj. R-squared:                  0.768\n",
       "Method:                 Least Squares   F-statistic:                     96.83\n",
       "Date:                Tue, 17 May 2022   Prob (F-statistic):           1.37e-10\n",
       "Time:                        15:09:29   Log-Likelihood:                 20.396\n",
       "No. Observations:                  30   AIC:                            -36.79\n",
       "Df Residuals:                      28   BIC:                            -33.99\n",
       "Df Model:                           1                                         \n",
       "Covariance Type:            nonrobust                                         \n",
       "===================================================================================\n",
       "                      coef    std err          t      P>|t|      [0.025      0.975]\n",
       "-----------------------------------------------------------------------------------\n",
       "const               0.0503      0.031      1.603      0.120      -0.014       0.115\n",
       "FED_Policy_Rate     0.4093      0.042      9.840      0.000       0.324       0.494\n",
       "==============================================================================\n",
       "Omnibus:                       40.715   Durbin-Watson:                   0.316\n",
       "Prob(Omnibus):                  0.000   Jarque-Bera (JB):              124.992\n",
       "Skew:                           2.950   Prob(JB):                     7.22e-28\n",
       "Kurtosis:                      11.073   Cond. No.                         2.40\n",
       "==============================================================================\n",
       "\n",
       "Notes:\n",
       "[1] Standard Errors assume that the covariance matrix of the errors is correctly specified.\n",
       "\"\"\""
      ]
     },
     "execution_count": 5,
     "metadata": {},
     "output_type": "execute_result"
    }
   ],
   "source": [
    "results_corona.summary()"
   ]
  },
  {
   "cell_type": "markdown",
   "metadata": {},
   "source": [
    "Normality Tests"
   ]
  },
  {
   "cell_type": "code",
   "execution_count": 6,
   "metadata": {},
   "outputs": [
    {
     "name": "stdout",
     "output_type": "stream",
     "text": [
      "JB Test P Values\n",
      "\n",
      "\n",
      "Post Corona : 0.0000\n",
      "After Corona : 0.0000\n"
     ]
    }
   ],
   "source": [
    "print(f'JB Test P Values\\n\\n\\nPost Corona : {stats.jarque_bera(results_post_corona.resid)[1]:.4f}\\nAfter Corona : {stats.jarque_bera(results_corona.resid)[1]:.4f}')"
   ]
  },
  {
   "cell_type": "markdown",
   "metadata": {},
   "source": [
    "Heteroscedasticity Test"
   ]
  },
  {
   "cell_type": "code",
   "execution_count": 7,
   "metadata": {},
   "outputs": [
    {
     "name": "stdout",
     "output_type": "stream",
     "text": [
      "Breusch-Pagan P Values\n",
      "\n",
      "\n",
      "Post Corona : 0.006493633520132123\n",
      "After Corona : 0.7148886986495444\n"
     ]
    }
   ],
   "source": [
    "print(f'Breusch-Pagan P Values\\n\\n\\nPost Corona : {sms.het_breuschpagan(results_post_corona.resid,results_post_corona.model.exog)[1]}\\nAfter Corona : {sms.het_breuschpagan(results_corona.resid,results_corona.model.exog)[1]}')"
   ]
  },
  {
   "cell_type": "markdown",
   "metadata": {},
   "source": [
    "Focusing On Post Corona"
   ]
  },
  {
   "cell_type": "code",
   "execution_count": 8,
   "metadata": {},
   "outputs": [
    {
     "data": {
      "text/plain": [
       "3.8579391637238e-24"
      ]
     },
     "execution_count": 8,
     "metadata": {},
     "output_type": "execute_result"
    }
   ],
   "source": [
    "sms.acorr_breusch_godfrey(results_post_corona,nlags=1)[1]"
   ]
  },
  {
   "cell_type": "code",
   "execution_count": 9,
   "metadata": {},
   "outputs": [],
   "source": [
    "#Seems Serial Autocorrelation and Heteroscedasticity on BOE Post Corona OLS\n",
    "#According to reason above we should switch GLS model\n",
    "\n",
    "#Application of GLS\n",
    "from scipy.linalg import toeplitz\n",
    "\n",
    "res_endog = results_post_corona.resid[1:]\n",
    "res_exog = results_post_corona.resid[:-1]\n",
    "res_exog.index,res_endog.index = np.arange(116),np.arange(116)\n",
    "\n",
    "res_fit = sm.OLS(res_endog,res_exog).fit()\n",
    "rho = res_fit.params[0]\n",
    "order = toeplitz(np.arange(before_covid.shape[0]))\n",
    "sigma = rho**order\n"
   ]
  },
  {
   "cell_type": "code",
   "execution_count": 10,
   "metadata": {},
   "outputs": [
    {
     "data": {
      "text/plain": [
       "x1    3.179273e-54\n",
       "dtype: float64"
      ]
     },
     "execution_count": 10,
     "metadata": {},
     "output_type": "execute_result"
    }
   ],
   "source": [
    "res_fit.pvalues"
   ]
  },
  {
   "cell_type": "code",
   "execution_count": 11,
   "metadata": {},
   "outputs": [],
   "source": [
    "model_post_corona = sm.GLS(before_covid['BOE_Policy_Rate'],sm.add_constant(before_covid['FED_Policy_Rate']),sigma=sigma)\n",
    "results_post_corona = model_post_corona.fit()"
   ]
  },
  {
   "cell_type": "code",
   "execution_count": 12,
   "metadata": {},
   "outputs": [
    {
     "data": {
      "text/html": [
       "<table class=\"simpletable\">\n",
       "<caption>GLS Regression Results</caption>\n",
       "<tr>\n",
       "  <th>Dep. Variable:</th>     <td>BOE_Policy_Rate</td> <th>  R-squared:         </th> <td>   0.006</td>\n",
       "</tr>\n",
       "<tr>\n",
       "  <th>Model:</th>                   <td>GLS</td>       <th>  Adj. R-squared:    </th> <td>  -0.003</td>\n",
       "</tr>\n",
       "<tr>\n",
       "  <th>Method:</th>             <td>Least Squares</td>  <th>  F-statistic:       </th> <td>  0.6549</td>\n",
       "</tr>\n",
       "<tr>\n",
       "  <th>Date:</th>             <td>Tue, 17 May 2022</td> <th>  Prob (F-statistic):</th>  <td> 0.420</td> \n",
       "</tr>\n",
       "<tr>\n",
       "  <th>Time:</th>                 <td>15:10:24</td>     <th>  Log-Likelihood:    </th> <td>  210.05</td>\n",
       "</tr>\n",
       "<tr>\n",
       "  <th>No. Observations:</th>      <td>   117</td>      <th>  AIC:               </th> <td>  -416.1</td>\n",
       "</tr>\n",
       "<tr>\n",
       "  <th>Df Residuals:</th>          <td>   115</td>      <th>  BIC:               </th> <td>  -410.6</td>\n",
       "</tr>\n",
       "<tr>\n",
       "  <th>Df Model:</th>              <td>     1</td>      <th>                     </th>     <td> </td>   \n",
       "</tr>\n",
       "<tr>\n",
       "  <th>Covariance Type:</th>      <td>nonrobust</td>    <th>                     </th>     <td> </td>   \n",
       "</tr>\n",
       "</table>\n",
       "<table class=\"simpletable\">\n",
       "<tr>\n",
       "         <td></td>            <th>coef</th>     <th>std err</th>      <th>t</th>      <th>P>|t|</th>  <th>[0.025</th>    <th>0.975]</th>  \n",
       "</tr>\n",
       "<tr>\n",
       "  <th>const</th>           <td>    0.5074</td> <td>    0.067</td> <td>    7.620</td> <td> 0.000</td> <td>    0.376</td> <td>    0.639</td>\n",
       "</tr>\n",
       "<tr>\n",
       "  <th>FED_Policy_Rate</th> <td>    0.0327</td> <td>    0.040</td> <td>    0.809</td> <td> 0.420</td> <td>   -0.047</td> <td>    0.113</td>\n",
       "</tr>\n",
       "</table>\n",
       "<table class=\"simpletable\">\n",
       "<tr>\n",
       "  <th>Omnibus:</th>       <td>99.920</td> <th>  Durbin-Watson:     </th> <td>   1.974</td>\n",
       "</tr>\n",
       "<tr>\n",
       "  <th>Prob(Omnibus):</th> <td> 0.000</td> <th>  Jarque-Bera (JB):  </th> <td>5148.544</td>\n",
       "</tr>\n",
       "<tr>\n",
       "  <th>Skew:</th>          <td>-2.105</td> <th>  Prob(JB):          </th> <td>    0.00</td>\n",
       "</tr>\n",
       "<tr>\n",
       "  <th>Kurtosis:</th>      <td>35.224</td> <th>  Cond. No.          </th> <td>    2.14</td>\n",
       "</tr>\n",
       "</table><br/><br/>Notes:<br/>[1] Standard Errors assume that the covariance matrix of the errors is correctly specified."
      ],
      "text/plain": [
       "<class 'statsmodels.iolib.summary.Summary'>\n",
       "\"\"\"\n",
       "                            GLS Regression Results                            \n",
       "==============================================================================\n",
       "Dep. Variable:        BOE_Policy_Rate   R-squared:                       0.006\n",
       "Model:                            GLS   Adj. R-squared:                 -0.003\n",
       "Method:                 Least Squares   F-statistic:                    0.6549\n",
       "Date:                Tue, 17 May 2022   Prob (F-statistic):              0.420\n",
       "Time:                        15:10:24   Log-Likelihood:                 210.05\n",
       "No. Observations:                 117   AIC:                            -416.1\n",
       "Df Residuals:                     115   BIC:                            -410.6\n",
       "Df Model:                           1                                         \n",
       "Covariance Type:            nonrobust                                         \n",
       "===================================================================================\n",
       "                      coef    std err          t      P>|t|      [0.025      0.975]\n",
       "-----------------------------------------------------------------------------------\n",
       "const               0.5074      0.067      7.620      0.000       0.376       0.639\n",
       "FED_Policy_Rate     0.0327      0.040      0.809      0.420      -0.047       0.113\n",
       "==============================================================================\n",
       "Omnibus:                       99.920   Durbin-Watson:                   1.974\n",
       "Prob(Omnibus):                  0.000   Jarque-Bera (JB):             5148.544\n",
       "Skew:                          -2.105   Prob(JB):                         0.00\n",
       "Kurtosis:                      35.224   Cond. No.                         2.14\n",
       "==============================================================================\n",
       "\n",
       "Notes:\n",
       "[1] Standard Errors assume that the covariance matrix of the errors is correctly specified.\n",
       "\"\"\""
      ]
     },
     "execution_count": 12,
     "metadata": {},
     "output_type": "execute_result"
    }
   ],
   "source": [
    "results_post_corona.summary()"
   ]
  },
  {
   "cell_type": "markdown",
   "metadata": {},
   "source": [
    "FED has no sufficient affect on BOE's Policy Rates.Before Corona Period"
   ]
  },
  {
   "cell_type": "code",
   "execution_count": 13,
   "metadata": {},
   "outputs": [
    {
     "data": {
      "text/plain": [
       "2.1998136592491664e-06"
      ]
     },
     "execution_count": 13,
     "metadata": {},
     "output_type": "execute_result"
    }
   ],
   "source": [
    "# After Corona Serial Correlation Test\n",
    "\n",
    "sms.acorr_breusch_godfrey(results_corona,nlags=1)[1]"
   ]
  },
  {
   "cell_type": "code",
   "execution_count": 14,
   "metadata": {},
   "outputs": [
    {
     "data": {
      "text/plain": [
       "0.31551724046999274"
      ]
     },
     "execution_count": 14,
     "metadata": {},
     "output_type": "execute_result"
    }
   ],
   "source": [
    "sms.durbin_watson(results_corona.resid)"
   ]
  },
  {
   "cell_type": "code",
   "execution_count": 24,
   "metadata": {},
   "outputs": [
    {
     "name": "stderr",
     "output_type": "stream",
     "text": [
      "c:\\Users\\acer\\AppData\\Local\\Programs\\Python\\Python39\\lib\\site-packages\\statsmodels\\tsa\\ardl\\model.py:158: SpecificationWarning: exog contains variables that are missing from the order dictionary.  Missing keys: const.\n",
      "  warnings.warn(msg, SpecificationWarning)\n"
     ]
    }
   ],
   "source": [
    "#Building ARDL Model \n",
    "from statsmodels.tsa.api import ARDL\n",
    "\n",
    "ardl = ARDL(after_covid['BOE_Policy_Rate'],1,sm.add_constant(after_covid['FED_Policy_Rate']),{'FED_Policy_Rate':1})\n",
    "results_corona = ardl.fit()"
   ]
  },
  {
   "cell_type": "code",
   "execution_count": 25,
   "metadata": {},
   "outputs": [
    {
     "data": {
      "text/html": [
       "<table class=\"simpletable\">\n",
       "<caption>ARDL Model Results</caption>\n",
       "<tr>\n",
       "  <th>Dep. Variable:</th>  <td>BOE_Policy_Rate</td> <th>  No. Observations:  </th>   <td>30</td>   \n",
       "</tr>\n",
       "<tr>\n",
       "  <th>Model:</th>            <td>ARDL(1, 1)</td>    <th>  Log Likelihood     </th> <td>40.310</td> \n",
       "</tr>\n",
       "<tr>\n",
       "  <th>Method:</th>         <td>Conditional MLE</td> <th>  S.D. of innovations</th>  <td>0.060</td> \n",
       "</tr>\n",
       "<tr>\n",
       "  <th>Date:</th>          <td>Tue, 17 May 2022</td> <th>  AIC                </th> <td>-70.619</td>\n",
       "</tr>\n",
       "<tr>\n",
       "  <th>Time:</th>              <td>15:12:09</td>     <th>  BIC                </th> <td>-63.783</td>\n",
       "</tr>\n",
       "<tr>\n",
       "  <th>Sample:</th>           <td>11-30-2019</td>    <th>  HQIC               </th> <td>-68.478</td>\n",
       "</tr>\n",
       "<tr>\n",
       "  <th></th>                 <td>- 03-31-2022</td>   <th>                     </th>    <td> </td>   \n",
       "</tr>\n",
       "</table>\n",
       "<table class=\"simpletable\">\n",
       "<tr>\n",
       "           <td></td>             <th>coef</th>     <th>std err</th>      <th>z</th>      <th>P>|z|</th>  <th>[0.025</th>    <th>0.975]</th>  \n",
       "</tr>\n",
       "<tr>\n",
       "  <th>const</th>              <td>    0.0089</td> <td>    0.017</td> <td>    0.522</td> <td> 0.606</td> <td>   -0.026</td> <td>    0.044</td>\n",
       "</tr>\n",
       "<tr>\n",
       "  <th>BOE_Policy_Rate.L1</th> <td>    1.3373</td> <td>    0.148</td> <td>    9.049</td> <td> 0.000</td> <td>    1.033</td> <td>    1.642</td>\n",
       "</tr>\n",
       "<tr>\n",
       "  <th>FED_Policy_Rate.L0</th> <td>    0.3369</td> <td>    0.048</td> <td>    6.997</td> <td> 0.000</td> <td>    0.238</td> <td>    0.436</td>\n",
       "</tr>\n",
       "<tr>\n",
       "  <th>FED_Policy_Rate.L1</th> <td>   -0.4859</td> <td>    0.070</td> <td>   -6.955</td> <td> 0.000</td> <td>   -0.630</td> <td>   -0.342</td>\n",
       "</tr>\n",
       "</table>"
      ],
      "text/plain": [
       "<class 'statsmodels.iolib.summary.Summary'>\n",
       "\"\"\"\n",
       "                              ARDL Model Results                              \n",
       "==============================================================================\n",
       "Dep. Variable:        BOE_Policy_Rate   No. Observations:                   30\n",
       "Model:                     ARDL(1, 1)   Log Likelihood                  40.310\n",
       "Method:               Conditional MLE   S.D. of innovations              0.060\n",
       "Date:                Tue, 17 May 2022   AIC                            -70.619\n",
       "Time:                        15:12:09   BIC                            -63.783\n",
       "Sample:                    11-30-2019   HQIC                           -68.478\n",
       "                         - 03-31-2022                                         \n",
       "======================================================================================\n",
       "                         coef    std err          z      P>|z|      [0.025      0.975]\n",
       "--------------------------------------------------------------------------------------\n",
       "const                  0.0089      0.017      0.522      0.606      -0.026       0.044\n",
       "BOE_Policy_Rate.L1     1.3373      0.148      9.049      0.000       1.033       1.642\n",
       "FED_Policy_Rate.L0     0.3369      0.048      6.997      0.000       0.238       0.436\n",
       "FED_Policy_Rate.L1    -0.4859      0.070     -6.955      0.000      -0.630      -0.342\n",
       "======================================================================================\n",
       "\"\"\""
      ]
     },
     "execution_count": 25,
     "metadata": {},
     "output_type": "execute_result"
    }
   ],
   "source": [
    "results_corona.summary()"
   ]
  },
  {
   "cell_type": "code",
   "execution_count": 26,
   "metadata": {},
   "outputs": [
    {
     "data": {
      "text/plain": [
       "Jarque-Bera    5.252373e+01\n",
       "P-value        3.932030e-12\n",
       "Skewness       2.249777e-01\n",
       "Kurtosis       9.577648e+00\n",
       "dtype: float64"
      ]
     },
     "execution_count": 26,
     "metadata": {},
     "output_type": "execute_result"
    }
   ],
   "source": [
    "results_corona.test_normality()"
   ]
  },
  {
   "cell_type": "code",
   "execution_count": 28,
   "metadata": {},
   "outputs": [
    {
     "data": {
      "text/plain": [
       "0.42069228824042404"
      ]
     },
     "execution_count": 28,
     "metadata": {},
     "output_type": "execute_result"
    }
   ],
   "source": [
    "from sklearn.metrics import r2_score\n",
    "endog = after_covid['FED_Policy_Rate'][1:]\n",
    "r2_score(endog,results_corona.fittedvalues)"
   ]
  },
  {
   "cell_type": "code",
   "execution_count": 29,
   "metadata": {},
   "outputs": [
    {
     "data": {
      "text/plain": [
       "Lag\n",
       "1    0.766769\n",
       "Name: P-value, dtype: float64"
      ]
     },
     "execution_count": 29,
     "metadata": {},
     "output_type": "execute_result"
    }
   ],
   "source": [
    "results_corona.test_heteroskedasticity(1)['P-value']"
   ]
  },
  {
   "cell_type": "code",
   "execution_count": 30,
   "metadata": {},
   "outputs": [
    {
     "data": {
      "text/plain": [
       "2.2603725318069863"
      ]
     },
     "execution_count": 30,
     "metadata": {},
     "output_type": "execute_result"
    }
   ],
   "source": [
    "sms.durbin_watson(results_corona.resid)"
   ]
  },
  {
   "cell_type": "code",
   "execution_count": 160,
   "metadata": {},
   "outputs": [
    {
     "data": {
      "text/html": [
       "<div>\n",
       "<style scoped>\n",
       "    .dataframe tbody tr th:only-of-type {\n",
       "        vertical-align: middle;\n",
       "    }\n",
       "\n",
       "    .dataframe tbody tr th {\n",
       "        vertical-align: top;\n",
       "    }\n",
       "\n",
       "    .dataframe thead th {\n",
       "        text-align: right;\n",
       "    }\n",
       "</style>\n",
       "<table border=\"1\" class=\"dataframe\">\n",
       "  <thead>\n",
       "    <tr style=\"text-align: right;\">\n",
       "      <th></th>\n",
       "      <th>Ljung-Box</th>\n",
       "      <th>LB P-value</th>\n",
       "      <th>DF</th>\n",
       "    </tr>\n",
       "    <tr>\n",
       "      <th>Lag</th>\n",
       "      <th></th>\n",
       "      <th></th>\n",
       "      <th></th>\n",
       "    </tr>\n",
       "  </thead>\n",
       "  <tbody>\n",
       "    <tr>\n",
       "      <th>1</th>\n",
       "      <td>0.570265</td>\n",
       "      <td>NaN</td>\n",
       "      <td>0</td>\n",
       "    </tr>\n",
       "    <tr>\n",
       "      <th>2</th>\n",
       "      <td>2.914337</td>\n",
       "      <td>NaN</td>\n",
       "      <td>0</td>\n",
       "    </tr>\n",
       "    <tr>\n",
       "      <th>3</th>\n",
       "      <td>2.962521</td>\n",
       "      <td>NaN</td>\n",
       "      <td>0</td>\n",
       "    </tr>\n",
       "    <tr>\n",
       "      <th>4</th>\n",
       "      <td>2.962546</td>\n",
       "      <td>NaN</td>\n",
       "      <td>0</td>\n",
       "    </tr>\n",
       "    <tr>\n",
       "      <th>5</th>\n",
       "      <td>2.962562</td>\n",
       "      <td>0.085213</td>\n",
       "      <td>1</td>\n",
       "    </tr>\n",
       "    <tr>\n",
       "      <th>6</th>\n",
       "      <td>2.962668</td>\n",
       "      <td>0.227334</td>\n",
       "      <td>2</td>\n",
       "    </tr>\n",
       "    <tr>\n",
       "      <th>7</th>\n",
       "      <td>2.962818</td>\n",
       "      <td>0.397393</td>\n",
       "      <td>3</td>\n",
       "    </tr>\n",
       "    <tr>\n",
       "      <th>8</th>\n",
       "      <td>2.963025</td>\n",
       "      <td>0.564032</td>\n",
       "      <td>4</td>\n",
       "    </tr>\n",
       "    <tr>\n",
       "      <th>9</th>\n",
       "      <td>2.963299</td>\n",
       "      <td>0.705644</td>\n",
       "      <td>5</td>\n",
       "    </tr>\n",
       "    <tr>\n",
       "      <th>10</th>\n",
       "      <td>2.963656</td>\n",
       "      <td>0.813394</td>\n",
       "      <td>6</td>\n",
       "    </tr>\n",
       "    <tr>\n",
       "      <th>11</th>\n",
       "      <td>2.964111</td>\n",
       "      <td>0.888302</td>\n",
       "      <td>7</td>\n",
       "    </tr>\n",
       "    <tr>\n",
       "      <th>12</th>\n",
       "      <td>2.964685</td>\n",
       "      <td>0.936554</td>\n",
       "      <td>8</td>\n",
       "    </tr>\n",
       "    <tr>\n",
       "      <th>13</th>\n",
       "      <td>2.965400</td>\n",
       "      <td>0.965651</td>\n",
       "      <td>9</td>\n",
       "    </tr>\n",
       "    <tr>\n",
       "      <th>14</th>\n",
       "      <td>2.966285</td>\n",
       "      <td>0.982206</td>\n",
       "      <td>10</td>\n",
       "    </tr>\n",
       "    <tr>\n",
       "      <th>15</th>\n",
       "      <td>2.967374</td>\n",
       "      <td>0.991150</td>\n",
       "      <td>11</td>\n",
       "    </tr>\n",
       "  </tbody>\n",
       "</table>\n",
       "</div>"
      ],
      "text/plain": [
       "     Ljung-Box  LB P-value  DF\n",
       "Lag                           \n",
       "1     0.570265         NaN   0\n",
       "2     2.914337         NaN   0\n",
       "3     2.962521         NaN   0\n",
       "4     2.962546         NaN   0\n",
       "5     2.962562    0.085213   1\n",
       "6     2.962668    0.227334   2\n",
       "7     2.962818    0.397393   3\n",
       "8     2.963025    0.564032   4\n",
       "9     2.963299    0.705644   5\n",
       "10    2.963656    0.813394   6\n",
       "11    2.964111    0.888302   7\n",
       "12    2.964685    0.936554   8\n",
       "13    2.965400    0.965651   9\n",
       "14    2.966285    0.982206  10\n",
       "15    2.967374    0.991150  11"
      ]
     },
     "execution_count": 160,
     "metadata": {},
     "output_type": "execute_result"
    }
   ],
   "source": [
    "results_corona.test_serial_correlation(15)"
   ]
  },
  {
   "cell_type": "code",
   "execution_count": null,
   "metadata": {},
   "outputs": [],
   "source": []
  }
 ],
 "metadata": {
  "interpreter": {
   "hash": "8f5816e6188795d1cc8afa4306b69c5e3a103f064a75e820fe776234e4cf83e8"
  },
  "kernelspec": {
   "display_name": "Python 3.9.1 64-bit",
   "language": "python",
   "name": "python3"
  },
  "language_info": {
   "codemirror_mode": {
    "name": "ipython",
    "version": 3
   },
   "file_extension": ".py",
   "mimetype": "text/x-python",
   "name": "python",
   "nbconvert_exporter": "python",
   "pygments_lexer": "ipython3",
   "version": "3.9.1"
  },
  "orig_nbformat": 4
 },
 "nbformat": 4,
 "nbformat_minor": 2
}
