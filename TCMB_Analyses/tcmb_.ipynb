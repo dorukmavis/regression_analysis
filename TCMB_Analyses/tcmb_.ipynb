{
 "cells": [
  {
   "cell_type": "code",
   "execution_count": 1,
   "metadata": {},
   "outputs": [],
   "source": [
    "import pandas as pd\n",
    "import seaborn as sns\n",
    "import statsmodels.api as sm\n",
    "import statsmodels.stats.api as sms\n",
    "from statsmodels.tsa.api import ARDL\n",
    "from scipy import stats\n",
    "import matplotlib.pyplot as plt\n",
    "import numpy as np\n"
   ]
  },
  {
   "cell_type": "code",
   "execution_count": 2,
   "metadata": {},
   "outputs": [
    {
     "data": {
      "text/html": [
       "<div>\n",
       "<style scoped>\n",
       "    .dataframe tbody tr th:only-of-type {\n",
       "        vertical-align: middle;\n",
       "    }\n",
       "\n",
       "    .dataframe tbody tr th {\n",
       "        vertical-align: top;\n",
       "    }\n",
       "\n",
       "    .dataframe thead th {\n",
       "        text-align: right;\n",
       "    }\n",
       "</style>\n",
       "<table border=\"1\" class=\"dataframe\">\n",
       "  <thead>\n",
       "    <tr style=\"text-align: right;\">\n",
       "      <th></th>\n",
       "      <th>TUR_Policy_Rate</th>\n",
       "      <th>FED_Policy_Rate</th>\n",
       "    </tr>\n",
       "  </thead>\n",
       "  <tbody>\n",
       "    <tr>\n",
       "      <th>2010-06-30</th>\n",
       "      <td>7.0</td>\n",
       "      <td>0.25</td>\n",
       "    </tr>\n",
       "    <tr>\n",
       "      <th>2010-07-31</th>\n",
       "      <td>7.0</td>\n",
       "      <td>0.25</td>\n",
       "    </tr>\n",
       "    <tr>\n",
       "      <th>2010-08-31</th>\n",
       "      <td>7.0</td>\n",
       "      <td>0.25</td>\n",
       "    </tr>\n",
       "    <tr>\n",
       "      <th>2010-09-30</th>\n",
       "      <td>7.0</td>\n",
       "      <td>0.25</td>\n",
       "    </tr>\n",
       "    <tr>\n",
       "      <th>2010-10-31</th>\n",
       "      <td>7.0</td>\n",
       "      <td>0.25</td>\n",
       "    </tr>\n",
       "    <tr>\n",
       "      <th>...</th>\n",
       "      <td>...</td>\n",
       "      <td>...</td>\n",
       "    </tr>\n",
       "    <tr>\n",
       "      <th>2021-11-30</th>\n",
       "      <td>15.0</td>\n",
       "      <td>0.25</td>\n",
       "    </tr>\n",
       "    <tr>\n",
       "      <th>2021-12-31</th>\n",
       "      <td>14.0</td>\n",
       "      <td>0.25</td>\n",
       "    </tr>\n",
       "    <tr>\n",
       "      <th>2022-01-31</th>\n",
       "      <td>14.0</td>\n",
       "      <td>0.25</td>\n",
       "    </tr>\n",
       "    <tr>\n",
       "      <th>2022-02-28</th>\n",
       "      <td>14.0</td>\n",
       "      <td>0.25</td>\n",
       "    </tr>\n",
       "    <tr>\n",
       "      <th>2022-03-31</th>\n",
       "      <td>14.0</td>\n",
       "      <td>0.50</td>\n",
       "    </tr>\n",
       "  </tbody>\n",
       "</table>\n",
       "<p>142 rows × 2 columns</p>\n",
       "</div>"
      ],
      "text/plain": [
       "            TUR_Policy_Rate  FED_Policy_Rate\n",
       "2010-06-30              7.0             0.25\n",
       "2010-07-31              7.0             0.25\n",
       "2010-08-31              7.0             0.25\n",
       "2010-09-30              7.0             0.25\n",
       "2010-10-31              7.0             0.25\n",
       "...                     ...              ...\n",
       "2021-11-30             15.0             0.25\n",
       "2021-12-31             14.0             0.25\n",
       "2022-01-31             14.0             0.25\n",
       "2022-02-28             14.0             0.25\n",
       "2022-03-31             14.0             0.50\n",
       "\n",
       "[142 rows x 2 columns]"
      ]
     },
     "execution_count": 2,
     "metadata": {},
     "output_type": "execute_result"
    }
   ],
   "source": [
    "df = pd.read_excel('../comparing_ir.xlsx',usecols=[0,1])\n",
    "df.index = pd.date_range('2010-06','2022-04',freq='m')\n",
    "\n",
    "df"
   ]
  },
  {
   "cell_type": "code",
   "execution_count": 3,
   "metadata": {},
   "outputs": [
    {
     "name": "stdout",
     "output_type": "stream",
     "text": [
      "n of post corona : (117, 2)\n",
      "n of after corona : (30, 2)\n"
     ]
    }
   ],
   "source": [
    "before_covid = df[(df.index <'2020-03')]\n",
    "after_covid = df.iloc[112:142,:] \n",
    "print(f'n of post corona : {before_covid.shape}\\nn of after corona : {after_covid.shape}')"
   ]
  },
  {
   "cell_type": "code",
   "execution_count": 4,
   "metadata": {},
   "outputs": [
    {
     "data": {
      "text/html": [
       "<table class=\"simpletable\">\n",
       "<caption>OLS Regression Results</caption>\n",
       "<tr>\n",
       "  <th>Dep. Variable:</th>     <td>TUR_Policy_Rate</td> <th>  R-squared:         </th> <td>   0.756</td>\n",
       "</tr>\n",
       "<tr>\n",
       "  <th>Model:</th>                   <td>OLS</td>       <th>  Adj. R-squared:    </th> <td>   0.753</td>\n",
       "</tr>\n",
       "<tr>\n",
       "  <th>Method:</th>             <td>Least Squares</td>  <th>  F-statistic:       </th> <td>   355.5</td>\n",
       "</tr>\n",
       "<tr>\n",
       "  <th>Date:</th>             <td>Tue, 17 May 2022</td> <th>  Prob (F-statistic):</th> <td>5.60e-37</td>\n",
       "</tr>\n",
       "<tr>\n",
       "  <th>Time:</th>                 <td>15:20:59</td>     <th>  Log-Likelihood:    </th> <td> -280.07</td>\n",
       "</tr>\n",
       "<tr>\n",
       "  <th>No. Observations:</th>      <td>   117</td>      <th>  AIC:               </th> <td>   564.1</td>\n",
       "</tr>\n",
       "<tr>\n",
       "  <th>Df Residuals:</th>          <td>   115</td>      <th>  BIC:               </th> <td>   569.7</td>\n",
       "</tr>\n",
       "<tr>\n",
       "  <th>Df Model:</th>              <td>     1</td>      <th>                     </th>     <td> </td>   \n",
       "</tr>\n",
       "<tr>\n",
       "  <th>Covariance Type:</th>      <td>nonrobust</td>    <th>                     </th>     <td> </td>   \n",
       "</tr>\n",
       "</table>\n",
       "<table class=\"simpletable\">\n",
       "<tr>\n",
       "         <td></td>            <th>coef</th>     <th>std err</th>      <th>t</th>      <th>P>|t|</th>  <th>[0.025</th>    <th>0.975]</th>  \n",
       "</tr>\n",
       "<tr>\n",
       "  <th>const</th>           <td>    4.5359</td> <td>    0.353</td> <td>   12.857</td> <td> 0.000</td> <td>    3.837</td> <td>    5.235</td>\n",
       "</tr>\n",
       "<tr>\n",
       "  <th>FED_Policy_Rate</th> <td>    6.1359</td> <td>    0.325</td> <td>   18.855</td> <td> 0.000</td> <td>    5.491</td> <td>    6.781</td>\n",
       "</tr>\n",
       "</table>\n",
       "<table class=\"simpletable\">\n",
       "<tr>\n",
       "  <th>Omnibus:</th>       <td> 6.524</td> <th>  Durbin-Watson:     </th> <td>   0.189</td>\n",
       "</tr>\n",
       "<tr>\n",
       "  <th>Prob(Omnibus):</th> <td> 0.038</td> <th>  Jarque-Bera (JB):  </th> <td>   6.134</td>\n",
       "</tr>\n",
       "<tr>\n",
       "  <th>Skew:</th>          <td>-0.463</td> <th>  Prob(JB):          </th> <td>  0.0466</td>\n",
       "</tr>\n",
       "<tr>\n",
       "  <th>Kurtosis:</th>      <td> 3.632</td> <th>  Cond. No.          </th> <td>    2.46</td>\n",
       "</tr>\n",
       "</table><br/><br/>Notes:<br/>[1] Standard Errors assume that the covariance matrix of the errors is correctly specified."
      ],
      "text/plain": [
       "<class 'statsmodels.iolib.summary.Summary'>\n",
       "\"\"\"\n",
       "                            OLS Regression Results                            \n",
       "==============================================================================\n",
       "Dep. Variable:        TUR_Policy_Rate   R-squared:                       0.756\n",
       "Model:                            OLS   Adj. R-squared:                  0.753\n",
       "Method:                 Least Squares   F-statistic:                     355.5\n",
       "Date:                Tue, 17 May 2022   Prob (F-statistic):           5.60e-37\n",
       "Time:                        15:20:59   Log-Likelihood:                -280.07\n",
       "No. Observations:                 117   AIC:                             564.1\n",
       "Df Residuals:                     115   BIC:                             569.7\n",
       "Df Model:                           1                                         \n",
       "Covariance Type:            nonrobust                                         \n",
       "===================================================================================\n",
       "                      coef    std err          t      P>|t|      [0.025      0.975]\n",
       "-----------------------------------------------------------------------------------\n",
       "const               4.5359      0.353     12.857      0.000       3.837       5.235\n",
       "FED_Policy_Rate     6.1359      0.325     18.855      0.000       5.491       6.781\n",
       "==============================================================================\n",
       "Omnibus:                        6.524   Durbin-Watson:                   0.189\n",
       "Prob(Omnibus):                  0.038   Jarque-Bera (JB):                6.134\n",
       "Skew:                          -0.463   Prob(JB):                       0.0466\n",
       "Kurtosis:                       3.632   Cond. No.                         2.46\n",
       "==============================================================================\n",
       "\n",
       "Notes:\n",
       "[1] Standard Errors assume that the covariance matrix of the errors is correctly specified.\n",
       "\"\"\""
      ]
     },
     "execution_count": 4,
     "metadata": {},
     "output_type": "execute_result"
    }
   ],
   "source": [
    "model_post_corona,model_corona = sm.OLS(before_covid['TUR_Policy_Rate'],sm.add_constant(before_covid['FED_Policy_Rate'])),sm.OLS(after_covid['TUR_Policy_Rate'],sm.add_constant(after_covid['FED_Policy_Rate']))\n",
    "results_post_corona,results_corona = model_post_corona.fit(),model_corona.fit()\n",
    "\n",
    "results_post_corona.summary()"
   ]
  },
  {
   "cell_type": "code",
   "execution_count": 5,
   "metadata": {},
   "outputs": [
    {
     "data": {
      "text/html": [
       "<table class=\"simpletable\">\n",
       "<caption>OLS Regression Results</caption>\n",
       "<tr>\n",
       "  <th>Dep. Variable:</th>     <td>TUR_Policy_Rate</td> <th>  R-squared:         </th> <td>   0.035</td>\n",
       "</tr>\n",
       "<tr>\n",
       "  <th>Model:</th>                   <td>OLS</td>       <th>  Adj. R-squared:    </th> <td>   0.000</td>\n",
       "</tr>\n",
       "<tr>\n",
       "  <th>Method:</th>             <td>Least Squares</td>  <th>  F-statistic:       </th> <td>   1.006</td>\n",
       "</tr>\n",
       "<tr>\n",
       "  <th>Date:</th>             <td>Tue, 17 May 2022</td> <th>  Prob (F-statistic):</th>  <td> 0.325</td> \n",
       "</tr>\n",
       "<tr>\n",
       "  <th>Time:</th>                 <td>15:21:11</td>     <th>  Log-Likelihood:    </th> <td> -81.876</td>\n",
       "</tr>\n",
       "<tr>\n",
       "  <th>No. Observations:</th>      <td>    30</td>      <th>  AIC:               </th> <td>   167.8</td>\n",
       "</tr>\n",
       "<tr>\n",
       "  <th>Df Residuals:</th>          <td>    28</td>      <th>  BIC:               </th> <td>   170.6</td>\n",
       "</tr>\n",
       "<tr>\n",
       "  <th>Df Model:</th>              <td>     1</td>      <th>                     </th>     <td> </td>   \n",
       "</tr>\n",
       "<tr>\n",
       "  <th>Covariance Type:</th>      <td>nonrobust</td>    <th>                     </th>     <td> </td>   \n",
       "</tr>\n",
       "</table>\n",
       "<table class=\"simpletable\">\n",
       "<tr>\n",
       "         <td></td>            <th>coef</th>     <th>std err</th>      <th>t</th>      <th>P>|t|</th>  <th>[0.025</th>    <th>0.975]</th>  \n",
       "</tr>\n",
       "<tr>\n",
       "  <th>const</th>           <td>   14.6077</td> <td>    0.948</td> <td>   15.402</td> <td> 0.000</td> <td>   12.665</td> <td>   16.550</td>\n",
       "</tr>\n",
       "<tr>\n",
       "  <th>FED_Policy_Rate</th> <td>   -1.2611</td> <td>    1.258</td> <td>   -1.003</td> <td> 0.325</td> <td>   -3.837</td> <td>    1.315</td>\n",
       "</tr>\n",
       "</table>\n",
       "<table class=\"simpletable\">\n",
       "<tr>\n",
       "  <th>Omnibus:</th>       <td> 5.021</td> <th>  Durbin-Watson:     </th> <td>   0.136</td>\n",
       "</tr>\n",
       "<tr>\n",
       "  <th>Prob(Omnibus):</th> <td> 0.081</td> <th>  Jarque-Bera (JB):  </th> <td>   2.223</td>\n",
       "</tr>\n",
       "<tr>\n",
       "  <th>Skew:</th>          <td>-0.350</td> <th>  Prob(JB):          </th> <td>   0.329</td>\n",
       "</tr>\n",
       "<tr>\n",
       "  <th>Kurtosis:</th>      <td> 1.864</td> <th>  Cond. No.          </th> <td>    2.40</td>\n",
       "</tr>\n",
       "</table><br/><br/>Notes:<br/>[1] Standard Errors assume that the covariance matrix of the errors is correctly specified."
      ],
      "text/plain": [
       "<class 'statsmodels.iolib.summary.Summary'>\n",
       "\"\"\"\n",
       "                            OLS Regression Results                            \n",
       "==============================================================================\n",
       "Dep. Variable:        TUR_Policy_Rate   R-squared:                       0.035\n",
       "Model:                            OLS   Adj. R-squared:                  0.000\n",
       "Method:                 Least Squares   F-statistic:                     1.006\n",
       "Date:                Tue, 17 May 2022   Prob (F-statistic):              0.325\n",
       "Time:                        15:21:11   Log-Likelihood:                -81.876\n",
       "No. Observations:                  30   AIC:                             167.8\n",
       "Df Residuals:                      28   BIC:                             170.6\n",
       "Df Model:                           1                                         \n",
       "Covariance Type:            nonrobust                                         \n",
       "===================================================================================\n",
       "                      coef    std err          t      P>|t|      [0.025      0.975]\n",
       "-----------------------------------------------------------------------------------\n",
       "const              14.6077      0.948     15.402      0.000      12.665      16.550\n",
       "FED_Policy_Rate    -1.2611      1.258     -1.003      0.325      -3.837       1.315\n",
       "==============================================================================\n",
       "Omnibus:                        5.021   Durbin-Watson:                   0.136\n",
       "Prob(Omnibus):                  0.081   Jarque-Bera (JB):                2.223\n",
       "Skew:                          -0.350   Prob(JB):                        0.329\n",
       "Kurtosis:                       1.864   Cond. No.                         2.40\n",
       "==============================================================================\n",
       "\n",
       "Notes:\n",
       "[1] Standard Errors assume that the covariance matrix of the errors is correctly specified.\n",
       "\"\"\""
      ]
     },
     "execution_count": 5,
     "metadata": {},
     "output_type": "execute_result"
    }
   ],
   "source": [
    "results_corona.summary()"
   ]
  },
  {
   "cell_type": "markdown",
   "metadata": {},
   "source": [
    "There is no significant affect on TCMB Policy Rates"
   ]
  },
  {
   "cell_type": "markdown",
   "metadata": {},
   "source": [
    "Focusing Post Corona period"
   ]
  },
  {
   "cell_type": "code",
   "execution_count": 6,
   "metadata": {},
   "outputs": [
    {
     "name": "stdout",
     "output_type": "stream",
     "text": [
      "Breusch-Pagan on Post Corona P Value : 1.1112922387704073e-10\n"
     ]
    }
   ],
   "source": [
    "print(f'Breusch-Pagan on Post Corona P Value : {sms.het_breuschpagan(results_post_corona.resid,results_post_corona.model.exog)[1]}')"
   ]
  },
  {
   "cell_type": "code",
   "execution_count": 7,
   "metadata": {},
   "outputs": [],
   "source": [
    "##Seems its Heteroscedastic"
   ]
  },
  {
   "cell_type": "code",
   "execution_count": 13,
   "metadata": {},
   "outputs": [
    {
     "name": "stdout",
     "output_type": "stream",
     "text": [
      "Breusch-Godfrey P Value for Serial Autocorrelation : 5.753759613723248e-17\n"
     ]
    }
   ],
   "source": [
    "print(f'Breusch-Godfrey P Value for Serial Autocorrelation : {sms.acorr_breusch_godfrey(results_post_corona)[1]}')"
   ]
  },
  {
   "cell_type": "code",
   "execution_count": 11,
   "metadata": {},
   "outputs": [
    {
     "name": "stdout",
     "output_type": "stream",
     "text": [
      "Durbin-Watson Test Statistic is 0.1888966184409973\n"
     ]
    }
   ],
   "source": [
    "print(f'Durbin-Watson Test Statistic is {sms.durbin_watson(results_post_corona.resid)}')"
   ]
  },
  {
   "cell_type": "code",
   "execution_count": 12,
   "metadata": {},
   "outputs": [],
   "source": [
    "##Seems has Positive Autocorrelation "
   ]
  },
  {
   "cell_type": "code",
   "execution_count": 15,
   "metadata": {},
   "outputs": [
    {
     "name": "stderr",
     "output_type": "stream",
     "text": [
      "c:\\Users\\acer\\AppData\\Local\\Programs\\Python\\Python39\\lib\\site-packages\\statsmodels\\tsa\\ardl\\model.py:158: SpecificationWarning: exog contains variables that are missing from the order dictionary.  Missing keys: const.\n",
      "  warnings.warn(msg, SpecificationWarning)\n"
     ]
    },
    {
     "data": {
      "text/html": [
       "<table class=\"simpletable\">\n",
       "<caption>ARDL Model Results</caption>\n",
       "<tr>\n",
       "  <th>Dep. Variable:</th>  <td>TUR_Policy_Rate</td> <th>  No. Observations:  </th>    <td>117</td>  \n",
       "</tr>\n",
       "<tr>\n",
       "  <th>Model:</th>            <td>ARDL(2, 2)</td>    <th>  Log Likelihood     </th> <td>-176.584</td>\n",
       "</tr>\n",
       "<tr>\n",
       "  <th>Method:</th>         <td>Conditional MLE</td> <th>  S.D. of innovations</th>   <td>1.124</td> \n",
       "</tr>\n",
       "<tr>\n",
       "  <th>Date:</th>          <td>Tue, 17 May 2022</td> <th>  AIC                </th>  <td>367.167</td>\n",
       "</tr>\n",
       "<tr>\n",
       "  <th>Time:</th>              <td>15:26:20</td>     <th>  BIC                </th>  <td>386.382</td>\n",
       "</tr>\n",
       "<tr>\n",
       "  <th>Sample:</th>           <td>08-31-2010</td>    <th>  HQIC               </th>  <td>374.966</td>\n",
       "</tr>\n",
       "<tr>\n",
       "  <th></th>                 <td>- 02-29-2020</td>   <th>                     </th>     <td> </td>   \n",
       "</tr>\n",
       "</table>\n",
       "<table class=\"simpletable\">\n",
       "<tr>\n",
       "           <td></td>             <th>coef</th>     <th>std err</th>      <th>z</th>      <th>P>|z|</th>  <th>[0.025</th>    <th>0.975]</th>  \n",
       "</tr>\n",
       "<tr>\n",
       "  <th>const</th>              <td>    0.3011</td> <td>    0.255</td> <td>    1.182</td> <td> 0.240</td> <td>   -0.204</td> <td>    0.806</td>\n",
       "</tr>\n",
       "<tr>\n",
       "  <th>TUR_Policy_Rate.L1</th> <td>    0.9820</td> <td>    0.096</td> <td>   10.252</td> <td> 0.000</td> <td>    0.792</td> <td>    1.172</td>\n",
       "</tr>\n",
       "<tr>\n",
       "  <th>TUR_Policy_Rate.L2</th> <td>   -0.0612</td> <td>    0.099</td> <td>   -0.621</td> <td> 0.536</td> <td>   -0.256</td> <td>    0.134</td>\n",
       "</tr>\n",
       "<tr>\n",
       "  <th>FED_Policy_Rate.L0</th> <td>    8.2987</td> <td>    1.383</td> <td>    6.001</td> <td> 0.000</td> <td>    5.558</td> <td>   11.039</td>\n",
       "</tr>\n",
       "<tr>\n",
       "  <th>FED_Policy_Rate.L1</th> <td>   -8.3346</td> <td>    2.118</td> <td>   -3.935</td> <td> 0.000</td> <td>  -12.532</td> <td>   -4.137</td>\n",
       "</tr>\n",
       "<tr>\n",
       "  <th>FED_Policy_Rate.L2</th> <td>    0.5084</td> <td>    1.641</td> <td>    0.310</td> <td> 0.757</td> <td>   -2.744</td> <td>    3.761</td>\n",
       "</tr>\n",
       "</table>"
      ],
      "text/plain": [
       "<class 'statsmodels.iolib.summary.Summary'>\n",
       "\"\"\"\n",
       "                              ARDL Model Results                              \n",
       "==============================================================================\n",
       "Dep. Variable:        TUR_Policy_Rate   No. Observations:                  117\n",
       "Model:                     ARDL(2, 2)   Log Likelihood                -176.584\n",
       "Method:               Conditional MLE   S.D. of innovations              1.124\n",
       "Date:                Tue, 17 May 2022   AIC                            367.167\n",
       "Time:                        15:26:20   BIC                            386.382\n",
       "Sample:                    08-31-2010   HQIC                           374.966\n",
       "                         - 02-29-2020                                         \n",
       "======================================================================================\n",
       "                         coef    std err          z      P>|z|      [0.025      0.975]\n",
       "--------------------------------------------------------------------------------------\n",
       "const                  0.3011      0.255      1.182      0.240      -0.204       0.806\n",
       "TUR_Policy_Rate.L1     0.9820      0.096     10.252      0.000       0.792       1.172\n",
       "TUR_Policy_Rate.L2    -0.0612      0.099     -0.621      0.536      -0.256       0.134\n",
       "FED_Policy_Rate.L0     8.2987      1.383      6.001      0.000       5.558      11.039\n",
       "FED_Policy_Rate.L1    -8.3346      2.118     -3.935      0.000     -12.532      -4.137\n",
       "FED_Policy_Rate.L2     0.5084      1.641      0.310      0.757      -2.744       3.761\n",
       "======================================================================================\n",
       "\"\"\""
      ]
     },
     "execution_count": 15,
     "metadata": {},
     "output_type": "execute_result"
    }
   ],
   "source": [
    "ardl = ARDL(before_covid['TUR_Policy_Rate'],[1,2],sm.add_constant(before_covid['FED_Policy_Rate']),{'FED_Policy_Rate':2})\n",
    "results_post_corona = ardl.fit()\n",
    "\n",
    "results_post_corona.summary()"
   ]
  },
  {
   "cell_type": "code",
   "execution_count": 16,
   "metadata": {},
   "outputs": [
    {
     "data": {
      "text/plain": [
       "Jarque-Bera    1959.354532\n",
       "P-value           0.000000\n",
       "Skewness          3.257415\n",
       "Kurtosis         22.143295\n",
       "dtype: float64"
      ]
     },
     "execution_count": 16,
     "metadata": {},
     "output_type": "execute_result"
    }
   ],
   "source": [
    "##Checking Diagnostics\n",
    "\n",
    "results_post_corona.test_normality()"
   ]
  },
  {
   "cell_type": "code",
   "execution_count": 22,
   "metadata": {},
   "outputs": [
    {
     "data": {
      "text/html": [
       "<div>\n",
       "<style scoped>\n",
       "    .dataframe tbody tr th:only-of-type {\n",
       "        vertical-align: middle;\n",
       "    }\n",
       "\n",
       "    .dataframe tbody tr th {\n",
       "        vertical-align: top;\n",
       "    }\n",
       "\n",
       "    .dataframe thead th {\n",
       "        text-align: right;\n",
       "    }\n",
       "</style>\n",
       "<table border=\"1\" class=\"dataframe\">\n",
       "  <thead>\n",
       "    <tr style=\"text-align: right;\">\n",
       "      <th></th>\n",
       "      <th>ARCH-LM</th>\n",
       "      <th>P-value</th>\n",
       "      <th>DF</th>\n",
       "    </tr>\n",
       "    <tr>\n",
       "      <th>Lag</th>\n",
       "      <th></th>\n",
       "      <th></th>\n",
       "      <th></th>\n",
       "    </tr>\n",
       "  </thead>\n",
       "  <tbody>\n",
       "    <tr>\n",
       "      <th>1</th>\n",
       "      <td>0.181885</td>\n",
       "      <td>0.669759</td>\n",
       "      <td>1</td>\n",
       "    </tr>\n",
       "  </tbody>\n",
       "</table>\n",
       "</div>"
      ],
      "text/plain": [
       "      ARCH-LM   P-value  DF\n",
       "Lag                        \n",
       "1    0.181885  0.669759   1"
      ]
     },
     "execution_count": 22,
     "metadata": {},
     "output_type": "execute_result"
    }
   ],
   "source": [
    "results_post_corona.test_heteroskedasticity(1)"
   ]
  },
  {
   "cell_type": "code",
   "execution_count": 19,
   "metadata": {},
   "outputs": [
    {
     "name": "stdout",
     "output_type": "stream",
     "text": [
      "Durbin Watson Test Statistics : 2.0062928688659913\n"
     ]
    }
   ],
   "source": [
    "endog = before_covid['TUR_Policy_Rate'][2:]\n",
    "exog = sm.add_constant(before_covid['FED_Policy_Rate'])[2:]\n",
    "\n",
    "print(f'Durbin Watson Test Statistics : {sms.durbin_watson(results_post_corona.resid)}')"
   ]
  },
  {
   "cell_type": "code",
   "execution_count": 20,
   "metadata": {},
   "outputs": [
    {
     "name": "stdout",
     "output_type": "stream",
     "text": [
      "Post Corona Period R² : 0.9566935869061012\n"
     ]
    }
   ],
   "source": [
    "from sklearn.metrics import r2_score\n",
    "\n",
    "print(f'Post Corona Period R² : {r2_score(endog,results_post_corona.fittedvalues)}')"
   ]
  },
  {
   "cell_type": "code",
   "execution_count": null,
   "metadata": {},
   "outputs": [],
   "source": []
  }
 ],
 "metadata": {
  "interpreter": {
   "hash": "8f5816e6188795d1cc8afa4306b69c5e3a103f064a75e820fe776234e4cf83e8"
  },
  "kernelspec": {
   "display_name": "Python 3.9.1 64-bit",
   "language": "python",
   "name": "python3"
  },
  "language_info": {
   "codemirror_mode": {
    "name": "ipython",
    "version": 3
   },
   "file_extension": ".py",
   "mimetype": "text/x-python",
   "name": "python",
   "nbconvert_exporter": "python",
   "pygments_lexer": "ipython3",
   "version": "3.9.1"
  },
  "orig_nbformat": 4
 },
 "nbformat": 4,
 "nbformat_minor": 2
}
