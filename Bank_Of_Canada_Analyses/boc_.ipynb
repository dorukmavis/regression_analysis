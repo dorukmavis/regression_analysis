{
 "cells": [
  {
   "cell_type": "code",
   "execution_count": 106,
   "metadata": {},
   "outputs": [],
   "source": [
    "import pandas as pd\n",
    "from scipy import stats\n",
    "import statsmodels.api as sm\n",
    "import statsmodels.stats.api as sms\n"
   ]
  },
  {
   "cell_type": "code",
   "execution_count": 112,
   "metadata": {},
   "outputs": [],
   "source": [
    "df = pd.read_excel('../comparing_ir.xlsx',usecols=[1,4])"
   ]
  },
  {
   "cell_type": "code",
   "execution_count": 113,
   "metadata": {},
   "outputs": [],
   "source": [
    "df = df.set_index(pd.date_range('2010-06','2022-04',freq='m'))\n",
    "# before_covid = df[(df.index <'2020-03')]\n",
    "before_covid= df.iloc[:112,:]\n",
    "# before_covid = before_covid.resample('Q').interpolate()\n",
    "after_covid = df.iloc[112:142,:] "
   ]
  },
  {
   "cell_type": "code",
   "execution_count": 114,
   "metadata": {},
   "outputs": [],
   "source": [
    "model_post_corona,model_corona = sm.OLS(before_covid['BOC_Policy_Rate'],sm.add_constant(before_covid['FED_Policy_Rate'])),sm.OLS(after_covid['BOC_Policy_Rate'],sm.add_constant(after_covid['FED_Policy_Rate']))"
   ]
  },
  {
   "cell_type": "code",
   "execution_count": 115,
   "metadata": {},
   "outputs": [
    {
     "data": {
      "text/html": [
       "<table class=\"simpletable\">\n",
       "<caption>OLS Regression Results</caption>\n",
       "<tr>\n",
       "  <th>Dep. Variable:</th>     <td>BOC_Policy_Rate</td> <th>  R-squared:         </th> <td>   0.487</td>\n",
       "</tr>\n",
       "<tr>\n",
       "  <th>Model:</th>                   <td>OLS</td>       <th>  Adj. R-squared:    </th> <td>   0.482</td>\n",
       "</tr>\n",
       "<tr>\n",
       "  <th>Method:</th>             <td>Least Squares</td>  <th>  F-statistic:       </th> <td>   104.3</td>\n",
       "</tr>\n",
       "<tr>\n",
       "  <th>Date:</th>             <td>Mon, 16 May 2022</td> <th>  Prob (F-statistic):</th> <td>1.27e-17</td>\n",
       "</tr>\n",
       "<tr>\n",
       "  <th>Time:</th>                 <td>19:27:05</td>     <th>  Log-Likelihood:    </th> <td> -7.7423</td>\n",
       "</tr>\n",
       "<tr>\n",
       "  <th>No. Observations:</th>      <td>   112</td>      <th>  AIC:               </th> <td>   19.48</td>\n",
       "</tr>\n",
       "<tr>\n",
       "  <th>Df Residuals:</th>          <td>   110</td>      <th>  BIC:               </th> <td>   24.92</td>\n",
       "</tr>\n",
       "<tr>\n",
       "  <th>Df Model:</th>              <td>     1</td>      <th>                     </th>     <td> </td>   \n",
       "</tr>\n",
       "<tr>\n",
       "  <th>Covariance Type:</th>      <td>nonrobust</td>    <th>                     </th>     <td> </td>   \n",
       "</tr>\n",
       "</table>\n",
       "<table class=\"simpletable\">\n",
       "<tr>\n",
       "         <td></td>            <th>coef</th>     <th>std err</th>      <th>t</th>      <th>P>|t|</th>  <th>[0.025</th>    <th>0.975]</th>  \n",
       "</tr>\n",
       "<tr>\n",
       "  <th>const</th>           <td>    0.7265</td> <td>    0.035</td> <td>   21.021</td> <td> 0.000</td> <td>    0.658</td> <td>    0.795</td>\n",
       "</tr>\n",
       "<tr>\n",
       "  <th>FED_Policy_Rate</th> <td>    0.3379</td> <td>    0.033</td> <td>   10.213</td> <td> 0.000</td> <td>    0.272</td> <td>    0.404</td>\n",
       "</tr>\n",
       "</table>\n",
       "<table class=\"simpletable\">\n",
       "<tr>\n",
       "  <th>Omnibus:</th>       <td>17.300</td> <th>  Durbin-Watson:     </th> <td>   0.085</td>\n",
       "</tr>\n",
       "<tr>\n",
       "  <th>Prob(Omnibus):</th> <td> 0.000</td> <th>  Jarque-Bera (JB):  </th> <td>  16.843</td>\n",
       "</tr>\n",
       "<tr>\n",
       "  <th>Skew:</th>          <td>-0.879</td> <th>  Prob(JB):          </th> <td>0.000220</td>\n",
       "</tr>\n",
       "<tr>\n",
       "  <th>Kurtosis:</th>      <td> 2.280</td> <th>  Cond. No.          </th> <td>    2.38</td>\n",
       "</tr>\n",
       "</table><br/><br/>Notes:<br/>[1] Standard Errors assume that the covariance matrix of the errors is correctly specified."
      ],
      "text/plain": [
       "<class 'statsmodels.iolib.summary.Summary'>\n",
       "\"\"\"\n",
       "                            OLS Regression Results                            \n",
       "==============================================================================\n",
       "Dep. Variable:        BOC_Policy_Rate   R-squared:                       0.487\n",
       "Model:                            OLS   Adj. R-squared:                  0.482\n",
       "Method:                 Least Squares   F-statistic:                     104.3\n",
       "Date:                Mon, 16 May 2022   Prob (F-statistic):           1.27e-17\n",
       "Time:                        19:27:05   Log-Likelihood:                -7.7423\n",
       "No. Observations:                 112   AIC:                             19.48\n",
       "Df Residuals:                     110   BIC:                             24.92\n",
       "Df Model:                           1                                         \n",
       "Covariance Type:            nonrobust                                         \n",
       "===================================================================================\n",
       "                      coef    std err          t      P>|t|      [0.025      0.975]\n",
       "-----------------------------------------------------------------------------------\n",
       "const               0.7265      0.035     21.021      0.000       0.658       0.795\n",
       "FED_Policy_Rate     0.3379      0.033     10.213      0.000       0.272       0.404\n",
       "==============================================================================\n",
       "Omnibus:                       17.300   Durbin-Watson:                   0.085\n",
       "Prob(Omnibus):                  0.000   Jarque-Bera (JB):               16.843\n",
       "Skew:                          -0.879   Prob(JB):                     0.000220\n",
       "Kurtosis:                       2.280   Cond. No.                         2.38\n",
       "==============================================================================\n",
       "\n",
       "Notes:\n",
       "[1] Standard Errors assume that the covariance matrix of the errors is correctly specified.\n",
       "\"\"\""
      ]
     },
     "execution_count": 115,
     "metadata": {},
     "output_type": "execute_result"
    }
   ],
   "source": [
    "results_post_corona,results_corona = model_post_corona.fit(),model_corona.fit()\n",
    "\n",
    "results_post_corona.summary()"
   ]
  },
  {
   "cell_type": "code",
   "execution_count": 116,
   "metadata": {},
   "outputs": [
    {
     "data": {
      "text/html": [
       "<table class=\"simpletable\">\n",
       "<caption>OLS Regression Results</caption>\n",
       "<tr>\n",
       "  <th>Dep. Variable:</th>     <td>BOC_Policy_Rate</td> <th>  R-squared:         </th> <td>   1.000</td> \n",
       "</tr>\n",
       "<tr>\n",
       "  <th>Model:</th>                   <td>OLS</td>       <th>  Adj. R-squared:    </th> <td>   1.000</td> \n",
       "</tr>\n",
       "<tr>\n",
       "  <th>Method:</th>             <td>Least Squares</td>  <th>  F-statistic:       </th> <td>2.014e+32</td>\n",
       "</tr>\n",
       "<tr>\n",
       "  <th>Date:</th>             <td>Mon, 16 May 2022</td> <th>  Prob (F-statistic):</th>  <td>  0.00</td>  \n",
       "</tr>\n",
       "<tr>\n",
       "  <th>Time:</th>                 <td>19:27:06</td>     <th>  Log-Likelihood:    </th> <td>  1040.7</td> \n",
       "</tr>\n",
       "<tr>\n",
       "  <th>No. Observations:</th>      <td>    30</td>      <th>  AIC:               </th> <td>  -2077.</td> \n",
       "</tr>\n",
       "<tr>\n",
       "  <th>Df Residuals:</th>          <td>    28</td>      <th>  BIC:               </th> <td>  -2075.</td> \n",
       "</tr>\n",
       "<tr>\n",
       "  <th>Df Model:</th>              <td>     1</td>      <th>                     </th>     <td> </td>    \n",
       "</tr>\n",
       "<tr>\n",
       "  <th>Covariance Type:</th>      <td>nonrobust</td>    <th>                     </th>     <td> </td>    \n",
       "</tr>\n",
       "</table>\n",
       "<table class=\"simpletable\">\n",
       "<tr>\n",
       "         <td></td>            <th>coef</th>     <th>std err</th>      <th>t</th>      <th>P>|t|</th>  <th>[0.025</th>    <th>0.975]</th>  \n",
       "</tr>\n",
       "<tr>\n",
       "  <th>const</th>           <td> 4.163e-17</td> <td> 5.31e-17</td> <td>    0.784</td> <td> 0.440</td> <td>-6.72e-17</td> <td>  1.5e-16</td>\n",
       "</tr>\n",
       "<tr>\n",
       "  <th>FED_Policy_Rate</th> <td>    1.0000</td> <td> 7.05e-17</td> <td> 1.42e+16</td> <td> 0.000</td> <td>    1.000</td> <td>    1.000</td>\n",
       "</tr>\n",
       "</table>\n",
       "<table class=\"simpletable\">\n",
       "<tr>\n",
       "  <th>Omnibus:</th>       <td>16.305</td> <th>  Durbin-Watson:     </th> <td>   0.086</td>\n",
       "</tr>\n",
       "<tr>\n",
       "  <th>Prob(Omnibus):</th> <td> 0.000</td> <th>  Jarque-Bera (JB):  </th> <td>  17.800</td>\n",
       "</tr>\n",
       "<tr>\n",
       "  <th>Skew:</th>          <td>-1.789</td> <th>  Prob(JB):          </th> <td>0.000136</td>\n",
       "</tr>\n",
       "<tr>\n",
       "  <th>Kurtosis:</th>      <td> 4.200</td> <th>  Cond. No.          </th> <td>    2.40</td>\n",
       "</tr>\n",
       "</table><br/><br/>Notes:<br/>[1] Standard Errors assume that the covariance matrix of the errors is correctly specified."
      ],
      "text/plain": [
       "<class 'statsmodels.iolib.summary.Summary'>\n",
       "\"\"\"\n",
       "                            OLS Regression Results                            \n",
       "==============================================================================\n",
       "Dep. Variable:        BOC_Policy_Rate   R-squared:                       1.000\n",
       "Model:                            OLS   Adj. R-squared:                  1.000\n",
       "Method:                 Least Squares   F-statistic:                 2.014e+32\n",
       "Date:                Mon, 16 May 2022   Prob (F-statistic):               0.00\n",
       "Time:                        19:27:06   Log-Likelihood:                 1040.7\n",
       "No. Observations:                  30   AIC:                            -2077.\n",
       "Df Residuals:                      28   BIC:                            -2075.\n",
       "Df Model:                           1                                         \n",
       "Covariance Type:            nonrobust                                         \n",
       "===================================================================================\n",
       "                      coef    std err          t      P>|t|      [0.025      0.975]\n",
       "-----------------------------------------------------------------------------------\n",
       "const            4.163e-17   5.31e-17      0.784      0.440   -6.72e-17     1.5e-16\n",
       "FED_Policy_Rate     1.0000   7.05e-17   1.42e+16      0.000       1.000       1.000\n",
       "==============================================================================\n",
       "Omnibus:                       16.305   Durbin-Watson:                   0.086\n",
       "Prob(Omnibus):                  0.000   Jarque-Bera (JB):               17.800\n",
       "Skew:                          -1.789   Prob(JB):                     0.000136\n",
       "Kurtosis:                       4.200   Cond. No.                         2.40\n",
       "==============================================================================\n",
       "\n",
       "Notes:\n",
       "[1] Standard Errors assume that the covariance matrix of the errors is correctly specified.\n",
       "\"\"\""
      ]
     },
     "execution_count": 116,
     "metadata": {},
     "output_type": "execute_result"
    }
   ],
   "source": [
    "results_corona.summary()"
   ]
  },
  {
   "cell_type": "markdown",
   "metadata": {},
   "source": [
    "Normality Test"
   ]
  },
  {
   "cell_type": "code",
   "execution_count": 117,
   "metadata": {},
   "outputs": [
    {
     "name": "stdout",
     "output_type": "stream",
     "text": [
      "P Value of JB Test for Post Corona BOC : 0.00022013531148956655\n",
      "P Value of JB Test for After Corona BOC : 0.00013638892648204504\n"
     ]
    }
   ],
   "source": [
    "print(f'P Value of JB Test for Post Corona BOC : {stats.jarque_bera(results_post_corona.resid)[1]}\\nP Value of JB Test for After Corona BOC : {stats.jarque_bera(results_corona.resid)[1]}')"
   ]
  },
  {
   "cell_type": "code",
   "execution_count": 118,
   "metadata": {},
   "outputs": [
    {
     "data": {
      "text/plain": [
       "Text(0.5, 1.0, 'Residual Distribution for Post Corona (BOC)')"
      ]
     },
     "execution_count": 118,
     "metadata": {},
     "output_type": "execute_result"
    },
    {
     "data": {
      "image/png": "[encoded data removed]",
      "text/plain": [
       "<Figure size 360x360 with 1 Axes>"
      ]
     },
     "metadata": {
      "needs_background": "light"
     },
     "output_type": "display_data"
    }
   ],
   "source": [
    "import seaborn as sns\n",
    "import matplotlib.pyplot as plt\n",
    "\n",
    "sns.displot(results_post_corona.resid,kde=True)\n",
    "plt.title('Residual Distribution for Post Corona (BOC)')"
   ]
  },
  {
   "cell_type": "markdown",
   "metadata": {},
   "source": [
    "Heteroscedasticity Test (Breusch-Pagan)"
   ]
  },
  {
   "cell_type": "code",
   "execution_count": 119,
   "metadata": {},
   "outputs": [
    {
     "name": "stdout",
     "output_type": "stream",
     "text": [
      "Before Corona P Value : 0.7957064683556221\n",
      "After Corona P Value : 0.0000\n"
     ]
    }
   ],
   "source": [
    "print(f'Before Corona P Value : {sms.het_breuschpagan(results_post_corona.resid,results_post_corona.model.exog)[1]}\\nAfter Corona P Value : {sms.het_breuschpagan(results_corona.resid,results_corona.model.exog)[1]:.4f}')"
   ]
  },
  {
   "cell_type": "markdown",
   "metadata": {},
   "source": [
    "Clearly Seems "
   ]
  },
  {
   "cell_type": "markdown",
   "metadata": {},
   "source": [
    "After Covid period, Bank of canada has same interest rates w/FED"
   ]
  },
  {
   "cell_type": "markdown",
   "metadata": {},
   "source": [
    "In post corona period, There is no Heteroscedasticity or Normality problem."
   ]
  },
  {
   "cell_type": "code",
   "execution_count": 256,
   "metadata": {},
   "outputs": [
    {
     "data": {
      "text/plain": [
       "Text(0.5, 1.0, 'Post Corona Period (BOC)')"
      ]
     },
     "execution_count": 256,
     "metadata": {},
     "output_type": "execute_result"
    },
    {
     "data": {
      "image/png": "[encoded data removed]",
      "text/plain": [
       "<Figure size 432x288 with 1 Axes>"
      ]
     },
     "metadata": {
      "needs_background": "light"
     },
     "output_type": "display_data"
    }
   ],
   "source": [
    "sns.lineplot(x=before_covid.index,y=results_post_corona.resid)\n",
    "plt.xlabel('Time')\n",
    "plt.ylabel('Residuals')\n",
    "plt.title('Post Corona Period (BOC)')"
   ]
  },
  {
   "cell_type": "code",
   "execution_count": 123,
   "metadata": {},
   "outputs": [
    {
     "data": {
      "text/plain": [
       "Text(0.5, 1.0, 'Post Corona Period (BOC)')"
      ]
     },
     "execution_count": 123,
     "metadata": {},
     "output_type": "execute_result"
    },
    {
     "data": {
      "image/png": "[encoded data removed]",
      "text/plain": [
       "<Figure size 432x288 with 1 Axes>"
      ]
     },
     "metadata": {
      "needs_background": "light"
     },
     "output_type": "display_data"
    }
   ],
   "source": [
    "before_covid.plot()\n",
    "plt.xlabel('Time')\n",
    "plt.ylabel('Policy Rate')\n",
    "plt.title('Post Corona Period (BOC)')"
   ]
  },
  {
   "cell_type": "code",
   "execution_count": 124,
   "metadata": {},
   "outputs": [
    {
     "data": {
      "text/plain": [
       "Text(0.5, 1.0, 'After Corona Period (BOC)')"
      ]
     },
     "execution_count": 124,
     "metadata": {},
     "output_type": "execute_result"
    },
    {
     "data": {
      "image/png": "[encoded data removed]",
      "text/plain": [
       "<Figure size 432x288 with 1 Axes>"
      ]
     },
     "metadata": {
      "needs_background": "light"
     },
     "output_type": "display_data"
    }
   ],
   "source": [
    "after_covid.plot()\n",
    "plt.xlabel('Time')\n",
    "plt.ylabel('Policy Rate')\n",
    "plt.title('After Corona Period (BOC)')"
   ]
  },
  {
   "cell_type": "code",
   "execution_count": 259,
   "metadata": {},
   "outputs": [
    {
     "name": "stdout",
     "output_type": "stream",
     "text": [
      "p value of Breusch-Godfrey test is:  1.08039761955572e-57\n",
      "The Durbin-Watson statistic is:  0.08512985309566685\n"
     ]
    }
   ],
   "source": [
    "print('p value of Breusch-Godfrey test is: ', sms.acorr_breusch_godfrey(results_post_corona,nlags=1)[3])\n",
    "print('The Durbin-Watson statistic is: ', sms.durbin_watson(results_post_corona.resid))"
   ]
  },
  {
   "cell_type": "code",
   "execution_count": 260,
   "metadata": {},
   "outputs": [],
   "source": [
    "##Seems Post Corona period suffers autocorrelation\n"
   ]
  },
  {
   "cell_type": "code",
   "execution_count": 185,
   "metadata": {},
   "outputs": [],
   "source": [
    "from statsmodels.tsa.ardl import ARDL\n",
    "from sklearn.metrics import r2_score"
   ]
  },
  {
   "cell_type": "code",
   "execution_count": 186,
   "metadata": {},
   "outputs": [
    {
     "name": "stderr",
     "output_type": "stream",
     "text": [
      "c:\\Users\\acer\\AppData\\Local\\Programs\\Python\\Python39\\lib\\site-packages\\statsmodels\\tsa\\ardl\\model.py:158: SpecificationWarning: exog contains variables that are missing from the order dictionary.  Missing keys: const.\n",
      "  warnings.warn(msg, SpecificationWarning)\n"
     ]
    }
   ],
   "source": [
    "ardl = ARDL(before_covid['BOC_Policy_Rate'],[1,2],sm.add_constant(before_covid['FED_Policy_Rate']),{'FED_Policy_Rate':2})"
   ]
  },
  {
   "cell_type": "code",
   "execution_count": 187,
   "metadata": {},
   "outputs": [],
   "source": [
    "r1 = ardl.fit()"
   ]
  },
  {
   "cell_type": "code",
   "execution_count": 188,
   "metadata": {},
   "outputs": [
    {
     "data": {
      "text/html": [
       "<table class=\"simpletable\">\n",
       "<caption>ARDL Model Results</caption>\n",
       "<tr>\n",
       "  <th>Dep. Variable:</th>  <td>BOC_Policy_Rate</td> <th>  No. Observations:  </th>    <td>112</td>  \n",
       "</tr>\n",
       "<tr>\n",
       "  <th>Model:</th>            <td>ARDL(2, 2)</td>    <th>  Log Likelihood     </th>  <td>154.949</td>\n",
       "</tr>\n",
       "<tr>\n",
       "  <th>Method:</th>         <td>Conditional MLE</td> <th>  S.D. of innovations</th>   <td>0.059</td> \n",
       "</tr>\n",
       "<tr>\n",
       "  <th>Date:</th>          <td>Mon, 16 May 2022</td> <th>  AIC                </th> <td>-295.898</td>\n",
       "</tr>\n",
       "<tr>\n",
       "  <th>Time:</th>              <td>20:37:18</td>     <th>  BIC                </th> <td>-276.995</td>\n",
       "</tr>\n",
       "<tr>\n",
       "  <th>Sample:</th>           <td>08-31-2010</td>    <th>  HQIC               </th> <td>-288.231</td>\n",
       "</tr>\n",
       "<tr>\n",
       "  <th></th>                 <td>- 09-30-2019</td>   <th>                     </th>     <td> </td>   \n",
       "</tr>\n",
       "</table>\n",
       "<table class=\"simpletable\">\n",
       "<tr>\n",
       "           <td></td>             <th>coef</th>     <th>std err</th>      <th>z</th>      <th>P>|z|</th>  <th>[0.025</th>    <th>0.975]</th>  \n",
       "</tr>\n",
       "<tr>\n",
       "  <th>const</th>              <td>    0.0133</td> <td>    0.020</td> <td>    0.662</td> <td> 0.510</td> <td>   -0.027</td> <td>    0.053</td>\n",
       "</tr>\n",
       "<tr>\n",
       "  <th>BOC_Policy_Rate.L1</th> <td>    0.9385</td> <td>    0.088</td> <td>   10.703</td> <td> 0.000</td> <td>    0.765</td> <td>    1.112</td>\n",
       "</tr>\n",
       "<tr>\n",
       "  <th>BOC_Policy_Rate.L2</th> <td>    0.0347</td> <td>    0.084</td> <td>    0.412</td> <td> 0.682</td> <td>   -0.133</td> <td>    0.202</td>\n",
       "</tr>\n",
       "<tr>\n",
       "  <th>FED_Policy_Rate.L0</th> <td>   -0.0378</td> <td>    0.078</td> <td>   -0.484</td> <td> 0.629</td> <td>   -0.193</td> <td>    0.117</td>\n",
       "</tr>\n",
       "<tr>\n",
       "  <th>FED_Policy_Rate.L1</th> <td>    0.3887</td> <td>    0.107</td> <td>    3.647</td> <td> 0.000</td> <td>    0.177</td> <td>    0.600</td>\n",
       "</tr>\n",
       "<tr>\n",
       "  <th>FED_Policy_Rate.L2</th> <td>   -0.3275</td> <td>    0.087</td> <td>   -3.756</td> <td> 0.000</td> <td>   -0.500</td> <td>   -0.155</td>\n",
       "</tr>\n",
       "</table>"
      ],
      "text/plain": [
       "<class 'statsmodels.iolib.summary.Summary'>\n",
       "\"\"\"\n",
       "                              ARDL Model Results                              \n",
       "==============================================================================\n",
       "Dep. Variable:        BOC_Policy_Rate   No. Observations:                  112\n",
       "Model:                     ARDL(2, 2)   Log Likelihood                 154.949\n",
       "Method:               Conditional MLE   S.D. of innovations              0.059\n",
       "Date:                Mon, 16 May 2022   AIC                           -295.898\n",
       "Time:                        20:37:18   BIC                           -276.995\n",
       "Sample:                    08-31-2010   HQIC                          -288.231\n",
       "                         - 09-30-2019                                         \n",
       "======================================================================================\n",
       "                         coef    std err          z      P>|z|      [0.025      0.975]\n",
       "--------------------------------------------------------------------------------------\n",
       "const                  0.0133      0.020      0.662      0.510      -0.027       0.053\n",
       "BOC_Policy_Rate.L1     0.9385      0.088     10.703      0.000       0.765       1.112\n",
       "BOC_Policy_Rate.L2     0.0347      0.084      0.412      0.682      -0.133       0.202\n",
       "FED_Policy_Rate.L0    -0.0378      0.078     -0.484      0.629      -0.193       0.117\n",
       "FED_Policy_Rate.L1     0.3887      0.107      3.647      0.000       0.177       0.600\n",
       "FED_Policy_Rate.L2    -0.3275      0.087     -3.756      0.000      -0.500      -0.155\n",
       "======================================================================================\n",
       "\"\"\""
      ]
     },
     "execution_count": 188,
     "metadata": {},
     "output_type": "execute_result"
    }
   ],
   "source": [
    "r1.summary()"
   ]
  },
  {
   "cell_type": "code",
   "execution_count": 189,
   "metadata": {},
   "outputs": [
    {
     "name": "stdout",
     "output_type": "stream",
     "text": [
      "The Durbin-Watson statistic is:  1.9427190246681483\n"
     ]
    }
   ],
   "source": [
    "print('The Durbin-Watson statistic is: ', sms.durbin_watson(r1.resid))"
   ]
  },
  {
   "cell_type": "code",
   "execution_count": 239,
   "metadata": {},
   "outputs": [
    {
     "name": "stdout",
     "output_type": "stream",
     "text": [
      "Breusch-Pagan Heteroscedasticity Test P Value : 0.4809033038049495\n"
     ]
    }
   ],
   "source": [
    "exog =sm.add_constant(before_covid['FED_Policy_Rate'][2:])\n",
    "print(f'Breusch-Pagan Heteroscedasticity Test P Value : {sms.het_breuschpagan(r1.resid,exog)[1]}')"
   ]
  },
  {
   "cell_type": "code",
   "execution_count": 240,
   "metadata": {},
   "outputs": [
    {
     "data": {
      "text/plain": [
       "Jarque-Bera    3.710789e+02\n",
       "P-value        2.637811e-81\n",
       "Skewness       1.913727e-01\n",
       "Kurtosis       1.198978e+01\n",
       "dtype: float64"
      ]
     },
     "execution_count": 240,
     "metadata": {},
     "output_type": "execute_result"
    }
   ],
   "source": [
    "r1.test_normality()\n"
   ]
  },
  {
   "cell_type": "code",
   "execution_count": 257,
   "metadata": {},
   "outputs": [
    {
     "data": {
      "text/plain": [
       "Text(0.5, 1.0, 'Residual Distribution of Post Corona ARDL(2,2) Model/Bank of Canada')"
      ]
     },
     "execution_count": 257,
     "metadata": {},
     "output_type": "execute_result"
    },
    {
     "data": {
      "image/png": "[encoded data removed]",
      "text/plain": [
       "<Figure size 360x360 with 1 Axes>"
      ]
     },
     "metadata": {
      "needs_background": "light"
     },
     "output_type": "display_data"
    }
   ],
   "source": [
    "sns.displot(r1.resid,kde=True)\n",
    "plt.title('Residual Distribution of Post Corona ARDL(2,2) Model/Bank of Canada')"
   ]
  },
  {
   "cell_type": "code",
   "execution_count": 249,
   "metadata": {},
   "outputs": [
    {
     "name": "stdout",
     "output_type": "stream",
     "text": [
      "R² = 0.9733\n"
     ]
    }
   ],
   "source": [
    "r2 = r2_score(before_covid['BOC_Policy_Rate'][2:],r1.fittedvalues)\n",
    "print(f'R² = {r2:.4f}')"
   ]
  },
  {
   "cell_type": "markdown",
   "metadata": {},
   "source": [
    "Functions Of BOC Policy Rates"
   ]
  },
  {
   "cell_type": "code",
   "execution_count": 253,
   "metadata": {},
   "outputs": [
    {
     "name": "stdout",
     "output_type": "stream",
     "text": [
      "y = 0.00+1.00x\n",
      "\n",
      "\n",
      "Where\n",
      "y = After Corona BOC Policy Rate\n",
      "x = After Corona FED Policy Rate\n",
      "\n",
      "(They are equal in After Corona Period)\n"
     ]
    }
   ],
   "source": [
    "print(f'y = {results_corona.params[0]:.2f}+{results_corona.params[1]:.2f}x\\n\\n\\nWhere\\ny = After Corona BOC Policy Rate\\nx = After Corona FED Policy Rate\\n\\n(They are equal in After Corona Period)')"
   ]
  },
  {
   "cell_type": "code",
   "execution_count": 251,
   "metadata": {},
   "outputs": [
    {
     "name": "stdout",
     "output_type": "stream",
     "text": [
      "y = 0.01327953694798079 + 0.9384657718786792y(t-1) + 0.03470721413256411y(t-2) + -0.0378178076030401x + 0.38865521700000044x(t-1) + -0.3274706346718126x(t-2)\n",
      "\n",
      "\n",
      "Where\n",
      "y = Post Corona BOC Policy Rate\n",
      "x = Post Corona FED Policy Rate\n"
     ]
    }
   ],
   "source": [
    "print(f'y = {r1.params[0]} + {r1.params[1]}y(t-1) + {r1.params[2]}y(t-2) + {r1.params[3]}x + {r1.params[4]}x(t-1) + {r1.params[5]}x(t-2)\\n\\n\\nWhere\\ny = Post Corona BOC Policy Rate\\nx = Post Corona FED Policy Rate')"
   ]
  },
  {
   "cell_type": "code",
   "execution_count": null,
   "metadata": {},
   "outputs": [],
   "source": []
  }
 ],
 "metadata": {
  "interpreter": {
   "hash": "8f5816e6188795d1cc8afa4306b69c5e3a103f064a75e820fe776234e4cf83e8"
  },
  "kernelspec": {
   "display_name": "Python 3.9.1 64-bit",
   "language": "python",
   "name": "python3"
  },
  "language_info": {
   "codemirror_mode": {
    "name": "ipython",
    "version": 3
   },
   "file_extension": ".py",
   "mimetype": "text/x-python",
   "name": "python",
   "nbconvert_exporter": "python",
   "pygments_lexer": "ipython3",
   "version": "3.9.1"
  },
  "orig_nbformat": 4
 },
 "nbformat": 4,
 "nbformat_minor": 2
}
